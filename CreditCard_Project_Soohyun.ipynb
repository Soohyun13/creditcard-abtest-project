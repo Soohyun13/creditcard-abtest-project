{
  "metadata": {
    "kernelspec": {
      "language": "python",
      "display_name": "Python 3",
      "name": "python3"
    },
    "language_info": {
      "name": "python",
      "version": "3.10.13",
      "mimetype": "text/x-python",
      "codemirror_mode": {
        "name": "ipython",
        "version": 3
      },
      "pygments_lexer": "ipython3",
      "nbconvert_exporter": "python",
      "file_extension": ".py"
    },
    "kaggle": {
      "accelerator": "none",
      "dataSources": [
        {
          "sourceId": 8593924,
          "sourceType": "datasetVersion",
          "datasetId": 5140957
        }
      ],
      "dockerImageVersionId": 30732,
      "isInternetEnabled": true,
      "language": "python",
      "sourceType": "notebook",
      "isGpuEnabled": false
    },
    "colab": {
      "name": "Final Project_Soohyun",
      "provenance": []
    }
  },
  "nbformat_minor": 0,
  "nbformat": 4,
  "cells": [
    {
      "source": [
        "# IMPORTANT: SOME KAGGLE DATA SOURCES ARE PRIVATE\n",
        "# RUN THIS CELL IN ORDER TO IMPORT YOUR KAGGLE DATA SOURCES.\n",
        "import kagglehub\n",
        "kagglehub.login()\n"
      ],
      "metadata": {
        "id": "KpmJWZeKmEpz"
      },
      "cell_type": "code",
      "outputs": [],
      "execution_count": null
    },
    {
      "source": [
        "# IMPORTANT: RUN THIS CELL IN ORDER TO IMPORT YOUR KAGGLE DATA SOURCES,\n",
        "# THEN FEEL FREE TO DELETE THIS CELL.\n",
        "# NOTE: THIS NOTEBOOK ENVIRONMENT DIFFERS FROM KAGGLE'S PYTHON\n",
        "# ENVIRONMENT SO THERE MAY BE MISSING LIBRARIES USED BY YOUR\n",
        "# NOTEBOOK.\n",
        "\n",
        "linerpark_zb_da5_competition_path = kagglehub.dataset_download('linerpark/zb-da5-competition')\n",
        "\n",
        "print('Data source import complete.')\n"
      ],
      "metadata": {
        "id": "QTULYz2amEp2"
      },
      "cell_type": "code",
      "outputs": [],
      "execution_count": null
    },
    {
      "cell_type": "markdown",
      "source": [
        "# **제로베이스 데이터 분석 스쿨 5기 파이널 프로젝트**\n",
        "\n",
        "**ㄴ 신용카드 거래 데이터를 활용한 고객 이탈 예측 모델링 및 A/B테스트**\n",
        "\n",
        "> **목차(Context)**\n",
        "\n",
        "* 프로젝트 Summary\n",
        "* 문제상황 Introduction\n",
        "* 🔈Process01\n",
        "* 🔉Process02"
      ],
      "metadata": {
        "id": "BZ5Yss7NmEp3"
      }
    },
    {
      "cell_type": "markdown",
      "source": [
        "## **프로젝트 Summary**\n",
        "---\n",
        "\n",
        "> **프로젝트명**\n",
        "\n",
        "```\n",
        "▶ 신용카드 거래 데이터를 활용한 고객 이탈 예측 모델링 및 A/B테스트\n",
        "```  \n",
        "\n",
        "> **학습목표**\n",
        "\n",
        "```\n",
        "▶ 데이터를 Read하고 전처리할 수 있는 역량 습득\n",
        "▶ 예측을 위한 모델링, 머신러닝 개념 이해 및 코드 작성 역량 습득\n",
        "```\n",
        "\n",
        "> **예상 결과물**\n",
        "\n",
        "```\n",
        "▶ 고객 이탈 예측 결과 보고서\n",
        "```"
      ],
      "metadata": {
        "id": "raSKeIzHmEp4"
      }
    },
    {
      "cell_type": "markdown",
      "source": [
        "\n",
        "## **문제상황 Introduction**\n",
        "---\n",
        "> **시나리오**\n",
        "\n",
        "```\n",
        "▶ B사는 소비자 금융 서비스 산업에 종사하며, 특히 신용카드 서비스를 제공하고 있습니다. 데이터 분석팀은 최근 소비자 신용카드 포트폴리오에서 수집된 방대한 고객 정보를 활용하려 합니다. 분석팀의 목표는 고객 이탈을 예측하는 것으로, 이를 통해 서비스 개선 및 고객 충성도 향상에 필요한 조치를 취하고자 합니다.\n",
        "이들이 활용하려는 데이터에는 나이, 성별, 결혼 상태, 소득 카테고리와 같은 고객의 인구통계학적 세부사항이 포함됩니다. 더 나아가, 신용카드 유형, 가입 기간, 비활성 기간 등 신용카드 제공 업체와의 관계에 대한 인사이트를 제공하는 데이터도 포함되어 있습니다. 특히, 고객의 소비 행동, 총 거래 잔액, 신용한도와 같은 중요한 데이터는 고객의 이탈 여부에 중요한 역할을 합니다.\n",
        "데이터 분석팀은 이를 통해 고객의 이탈을 예측하고, 이러한 예측 정보를 활용하여 포트폴리오 관리 전략을 조정하거나 개별 고객에게 더 맞춤화된 서비스를 제공할 방안을 모색할 예정입니다.\n",
        "```  \n",
        "\n",
        "> **문제정의**\n",
        "\n",
        "```\n",
        "▶ 고객 이탈로 인한 손실 발생\n",
        "```  \n",
        "\n",
        "> **기대효과**\n",
        "\n",
        "```\n",
        "▶ 고객 이탈 예측을 통한 서비스 개선 및 고객 충성도 향상\n",
        "```\n",
        "\n",
        "> **해결방안**\n",
        "\n",
        "```\n",
        "▶ 고객 이탈 예측 모델 적용 & A/B테스트 진행을 통한 유효 개선책 찾기\n",
        "```\n",
        "\n",
        "> **성과측정**  \n",
        "\n",
        "```\n",
        "▶ 이탈 예측값과 실제값의 정확도(Accuracy) 및 혼동행렬(F1 Score)을 통해 예측 측정\n",
        "```"
      ],
      "metadata": {
        "id": "Xb_CLNQ-mEp5"
      }
    },
    {
      "cell_type": "markdown",
      "source": [
        "## **🔈Process01**  \n",
        "**┗ 데이터 전처리**  \n",
        "---"
      ],
      "metadata": {
        "id": "wh5_J6bWmEp5"
      }
    },
    {
      "cell_type": "markdown",
      "source": [
        "> **데이터 살펴보기**\n",
        "\n",
        "|Column|Description|\n",
        "|:---|:---|\n",
        "|CLIENTNUM|고객별 고유 식별 번호. (integer)|\n",
        "|Attrition_Flag|고객 이탈 여부를 나타내는 지표. (Boolean)|\n",
        "|Customer_Age|고객의 나이. (Integer)|\n",
        "|Gender|고객의 성별. (String)|\n",
        "|Dependent_count|고객이 경제적으로 부양하는 가족의 수. (Integer)|\n",
        "|Education_Level|고객의 교육 수준. (String)|\n",
        "|Marital_Status|고객의 결혼 상태. (String)|\n",
        "|Income_Category|고객의 연간 소득 범위를 나타내는 카테고리.. (String)|\n",
        "|Card_Category|고객이 소지한 신용카드의 유형(예: 일반, 골드, 플래티넘). (String)|\n",
        "|Months_on_book|고객 계정 유지 기간. (integer)|\n",
        "|Total_Relationship_Count|고객이 신용카드 회사와 맺고 있는 총 상품 또는 서비스 수. (integer)|\n",
        "|Months_Inactive_12_mon|지난 12개월 동안 고객 계정의 비활성화된 월 수 (integer)|\n",
        "|Contacts_Count_12_mon|최근 12개월간 고객과 회사간 연락 횟수 (integer)|\n",
        "|Credit_Limit|고객의 신용한도. (integer)|\n",
        "|Total_Revolving_Bal|결제 기한이 지났음에도 남아있는 채무의 총액. (integer)|\n",
        "|Avg_Open_To_Buy|평균 구매가능 잔여한도. (integer)|\n",
        "|Total_Amt_Chng_Q4_Q1|1분기 대비 4분기 총 금액 변동비율. (float)|\n",
        "|Total_Trans_Amt|총 거래 금액. (integer)|\n",
        "|Total_Trans_Ct|총 거래 횟수. (integer)|\n",
        "|Total_Ct_Chng_Q4_Q1|1분기 대비 4분기 총 거래 횟수 변동비율. (float)|\n",
        "|Avg_Utilization_Ratio|신용 한도 대비 사용한 한도의 비율, Total_Revolving_Bal / Credit_Limit (float)|\n",
        "\n"
      ],
      "metadata": {
        "id": "NM04xg5PmEp6"
      }
    },
    {
      "cell_type": "code",
      "source": [
        "# Data read\n",
        "import pandas as pd\n",
        "df = pd.read_csv('/kaggle/input/zb-da5-competition/BankChurners_.csv')\n",
        "df.head()"
      ],
      "metadata": {
        "execution": {
          "iopub.status.busy": "2024-06-23T04:14:20.398665Z",
          "iopub.execute_input": "2024-06-23T04:14:20.399059Z",
          "iopub.status.idle": "2024-06-23T04:14:22.0439Z",
          "shell.execute_reply.started": "2024-06-23T04:14:20.399027Z",
          "shell.execute_reply": "2024-06-23T04:14:22.041885Z"
        },
        "trusted": true,
        "id": "m598jWbSmEp6"
      },
      "execution_count": null,
      "outputs": []
    },
    {
      "cell_type": "markdown",
      "source": [
        "### · Data 전처리  \n",
        "---\n",
        "* 수집된 데이터의 기본 정보들을 확인  \n",
        "\n",
        "  (1) Data shape(형태) 확인\n",
        "\n",
        "  (2) Data type 확인\n",
        "\n",
        "  (3) Null값 확인 (※ 빈 값의 Data)\n",
        "\n",
        "  (4) Outlier 확인 (※ 정상적인 범주를 벗어난 Data)  "
      ],
      "metadata": {
        "id": "pSUCp1CjmEp7"
      }
    },
    {
      "cell_type": "code",
      "source": [
        "# Data 형태 확인\n",
        "df.shape\n",
        "\n",
        "# 10,127 row / 21 column으로 구성됨"
      ],
      "metadata": {
        "execution": {
          "iopub.status.busy": "2024-06-23T04:14:22.046705Z",
          "iopub.execute_input": "2024-06-23T04:14:22.047177Z",
          "iopub.status.idle": "2024-06-23T04:14:22.056899Z",
          "shell.execute_reply.started": "2024-06-23T04:14:22.047134Z",
          "shell.execute_reply": "2024-06-23T04:14:22.055371Z"
        },
        "trusted": true,
        "id": "qdIxXW5mmEp7"
      },
      "execution_count": null,
      "outputs": []
    },
    {
      "cell_type": "code",
      "source": [
        "# Data type 확인\n",
        "df.info()"
      ],
      "metadata": {
        "execution": {
          "iopub.status.busy": "2024-06-23T04:14:22.058968Z",
          "iopub.execute_input": "2024-06-23T04:14:22.059332Z",
          "iopub.status.idle": "2024-06-23T04:14:22.094291Z",
          "shell.execute_reply.started": "2024-06-23T04:14:22.059289Z",
          "shell.execute_reply": "2024-06-23T04:14:22.092862Z"
        },
        "trusted": true,
        "id": "obXZOvMGmEp7"
      },
      "execution_count": null,
      "outputs": []
    },
    {
      "cell_type": "code",
      "source": [
        "# Null 값 확인\n",
        "df.isnull().sum()"
      ],
      "metadata": {
        "execution": {
          "iopub.status.busy": "2024-06-23T04:14:22.09728Z",
          "iopub.execute_input": "2024-06-23T04:14:22.097703Z",
          "iopub.status.idle": "2024-06-23T04:14:22.117841Z",
          "shell.execute_reply.started": "2024-06-23T04:14:22.097669Z",
          "shell.execute_reply": "2024-06-23T04:14:22.116364Z"
        },
        "trusted": true,
        "id": "FSnI3vy8mEp7"
      },
      "execution_count": null,
      "outputs": []
    },
    {
      "cell_type": "code",
      "source": [
        "# Outlier 확인, 음수값 확인\n",
        "pd.DataFrame(df.describe())"
      ],
      "metadata": {
        "execution": {
          "iopub.status.busy": "2024-06-23T04:14:22.119848Z",
          "iopub.execute_input": "2024-06-23T04:14:22.122754Z",
          "iopub.status.idle": "2024-06-23T04:14:22.206096Z",
          "shell.execute_reply.started": "2024-06-23T04:14:22.122713Z",
          "shell.execute_reply": "2024-06-23T04:14:22.204886Z"
        },
        "trusted": true,
        "id": "EX48_rd6mEp8"
      },
      "execution_count": null,
      "outputs": []
    },
    {
      "cell_type": "code",
      "source": [
        "df['Attrition_Flag'].value_counts()"
      ],
      "metadata": {
        "execution": {
          "iopub.status.busy": "2024-06-23T04:14:22.20733Z",
          "iopub.execute_input": "2024-06-23T04:14:22.207648Z",
          "iopub.status.idle": "2024-06-23T04:14:22.21883Z",
          "shell.execute_reply.started": "2024-06-23T04:14:22.207621Z",
          "shell.execute_reply": "2024-06-23T04:14:22.217361Z"
        },
        "trusted": true,
        "id": "5BWRTNK0mEp8"
      },
      "execution_count": null,
      "outputs": []
    },
    {
      "cell_type": "code",
      "source": [
        "# 약 16%의 이탈률\n",
        "1627 / (1627 + 8500)"
      ],
      "metadata": {
        "execution": {
          "iopub.status.busy": "2024-06-23T04:14:22.220703Z",
          "iopub.execute_input": "2024-06-23T04:14:22.22145Z",
          "iopub.status.idle": "2024-06-23T04:14:22.229881Z",
          "shell.execute_reply.started": "2024-06-23T04:14:22.221411Z",
          "shell.execute_reply": "2024-06-23T04:14:22.228405Z"
        },
        "trusted": true,
        "id": "F3P3O00OmEp9"
      },
      "execution_count": null,
      "outputs": []
    },
    {
      "cell_type": "markdown",
      "source": [
        "## **🔉Process02**  \n",
        "**┗ 이탈 고객과 잔존 고객 특성 파악**  \n",
        "---"
      ],
      "metadata": {
        "id": "HLOPRcu4mEp9"
      }
    },
    {
      "cell_type": "code",
      "source": [
        "# numeric, categorical value 나누기\n",
        "numeric_list=[]\n",
        "categorical_list=[]\n",
        "\n",
        "for i in df.columns :\n",
        "  if df[i].dtypes == 'O' :\n",
        "    categorical_list.append(i)\n",
        "  else :\n",
        "    numeric_list.append(i)\n",
        "\n",
        "print(\"categorical_list :\", categorical_list)\n",
        "print(\"numeric_list :\", numeric_list)"
      ],
      "metadata": {
        "execution": {
          "iopub.status.busy": "2024-06-23T04:14:22.2317Z",
          "iopub.execute_input": "2024-06-23T04:14:22.232124Z",
          "iopub.status.idle": "2024-06-23T04:14:22.242032Z",
          "shell.execute_reply.started": "2024-06-23T04:14:22.232092Z",
          "shell.execute_reply": "2024-06-23T04:14:22.24042Z"
        },
        "trusted": true,
        "id": "Q7e5iPl1mEp-"
      },
      "execution_count": null,
      "outputs": []
    },
    {
      "cell_type": "markdown",
      "source": [
        "### · Numeric 변수"
      ],
      "metadata": {
        "id": "q8kAFOB-mEp-"
      }
    },
    {
      "cell_type": "code",
      "source": [
        "df[numeric_list]"
      ],
      "metadata": {
        "execution": {
          "iopub.status.busy": "2024-06-23T04:14:22.243853Z",
          "iopub.execute_input": "2024-06-23T04:14:22.244261Z",
          "iopub.status.idle": "2024-06-23T04:14:22.273283Z",
          "shell.execute_reply.started": "2024-06-23T04:14:22.244208Z",
          "shell.execute_reply": "2024-06-23T04:14:22.272112Z"
        },
        "trusted": true,
        "id": "1tIf6o5MmEp-"
      },
      "execution_count": null,
      "outputs": []
    },
    {
      "cell_type": "markdown",
      "source": [
        "#### · 고객 나이별 Data"
      ],
      "metadata": {
        "id": "kb_v71W3mEp-"
      }
    },
    {
      "cell_type": "code",
      "source": [
        "import pandas as pd\n",
        "import matplotlib.pyplot as plt\n",
        "\n",
        "# 데이터 불러오기\n",
        "df = pd.read_csv('/kaggle/input/zb-da5-competition/BankChurners_.csv')\n",
        "\n",
        "# 'Existing Customer' = 0, 'Attrited Customer' = 1로 치환\n",
        "df['Attrition_Flag'] = df['Attrition_Flag'].map({'Existing Customer': 0, 'Attrited Customer': 1})\n",
        "\n",
        "# 고객 나이 구간화\n",
        "bins = [20, 30, 40, 50, 60, 70]\n",
        "labels = ['20-29', '30-39', '40-49', '50-59', '60-69']\n",
        "df['Age_Group'] = pd.cut(df['Customer_Age'], bins=bins, labels=labels, right=False)\n",
        "\n",
        "# 이탈 고객과 비이탈 고객으로 나누기\n",
        "attrited = df[df['Attrition_Flag'] == 1]\n",
        "not_attrited = df[df['Attrition_Flag'] == 0]\n",
        "\n",
        "# 각 그룹의 나이 구간별 빈도수 계산\n",
        "attrited_counts = attrited['Age_Group'].value_counts().sort_index()\n",
        "not_attrited_counts = not_attrited['Age_Group'].value_counts().sort_index()\n",
        "\n",
        "# 바 그래프 그리기\n",
        "plt.figure(figsize=(10, 6))\n",
        "width = 0.4\n",
        "plt.bar(attrited_counts.index, attrited_counts.values, width=width, label='Attrited', align='center')\n",
        "plt.bar(not_attrited_counts.index, not_attrited_counts.values, width=width, label='Not Attrited', align='edge')\n",
        "\n",
        "# 그래프 설정\n",
        "plt.title('Customer Age Group Distribution by Attrition')\n",
        "plt.xlabel('Customer Age Group')\n",
        "plt.ylabel('Number of Customers')\n",
        "plt.legend(loc='upper right')\n",
        "\n",
        "# 그래프 보여주기\n",
        "plt.show()"
      ],
      "metadata": {
        "execution": {
          "iopub.status.busy": "2024-06-23T04:14:22.278502Z",
          "iopub.execute_input": "2024-06-23T04:14:22.278926Z",
          "iopub.status.idle": "2024-06-23T04:14:22.808816Z",
          "shell.execute_reply.started": "2024-06-23T04:14:22.278893Z",
          "shell.execute_reply": "2024-06-23T04:14:22.80766Z"
        },
        "trusted": true,
        "id": "gciHxVyGmEp-"
      },
      "execution_count": null,
      "outputs": []
    },
    {
      "cell_type": "code",
      "source": [
        "# 고객 나이별 데이터 확인 결과, 40대 고객의 잔존율과 이탈률이 모두 가장 높은 것을 확인할 수 있었음\n",
        "# 이탈률은 40대 > 50대 > 30대 순으로 높은 것을 확인\n",
        "# 잔존율도 40대 > 50대 > 30대 순으로 높은 것을 확인"
      ],
      "metadata": {
        "execution": {
          "iopub.status.busy": "2024-06-23T04:14:22.810354Z",
          "iopub.execute_input": "2024-06-23T04:14:22.81141Z",
          "iopub.status.idle": "2024-06-23T04:14:22.816311Z",
          "shell.execute_reply.started": "2024-06-23T04:14:22.811364Z",
          "shell.execute_reply": "2024-06-23T04:14:22.81515Z"
        },
        "trusted": true,
        "id": "mfyuIfvumEp-"
      },
      "execution_count": null,
      "outputs": []
    },
    {
      "cell_type": "markdown",
      "source": [
        "#### · 부양가족 수별 Data"
      ],
      "metadata": {
        "id": "QNbt3o-emEp_"
      }
    },
    {
      "cell_type": "code",
      "source": [
        "import pandas as pd\n",
        "import matplotlib.pyplot as plt\n",
        "\n",
        "# 데이터 불러오기\n",
        "df = pd.read_csv('/kaggle/input/zb-da5-competition/BankChurners_.csv')\n",
        "\n",
        "# 'Existing Customer' = 0, 'Attrited Customer' = 1로 치환\n",
        "df['Attrition_Flag'] = df['Attrition_Flag'].map({'Existing Customer': 0, 'Attrited Customer': 1})\n",
        "\n",
        "# 부양가족 수별 빈도수 계산\n",
        "attrited_counts = attrited['Dependent_count'].value_counts().sort_index()\n",
        "not_attrited_counts = not_attrited['Dependent_count'].value_counts().sort_index()\n",
        "\n",
        "# 바 그래프 그리기\n",
        "plt.figure(figsize=(10, 6))\n",
        "width = 0.4  # 막대 너비\n",
        "plt.bar(attrited_counts.index - width/2, attrited_counts.values, width=width, label='Attrited')\n",
        "plt.bar(not_attrited_counts.index + width/2, not_attrited_counts.values, width=width, label='Not Attrited')\n",
        "\n",
        "# 그래프 설정\n",
        "plt.title('Customer Distribution by Dependent Count and Attrition')\n",
        "plt.xlabel('Number of Dependents')\n",
        "plt.ylabel('Number of Customers')\n",
        "plt.xticks(range(max(df['Dependent_count']) + 1))  # X축 눈금을 0부터 최대 부양가족 수까지 설정\n",
        "plt.legend(loc='upper right')\n",
        "\n",
        "# 그래프 보여주기\n",
        "plt.show()\n"
      ],
      "metadata": {
        "execution": {
          "iopub.status.busy": "2024-06-23T04:14:22.817763Z",
          "iopub.execute_input": "2024-06-23T04:14:22.818844Z",
          "iopub.status.idle": "2024-06-23T04:14:23.23445Z",
          "shell.execute_reply.started": "2024-06-23T04:14:22.818802Z",
          "shell.execute_reply": "2024-06-23T04:14:23.231559Z"
        },
        "trusted": true,
        "id": "d-OcML2gmEp_"
      },
      "execution_count": null,
      "outputs": []
    },
    {
      "cell_type": "code",
      "source": [
        "# 부양가족 수별 데이터 확인 결과, 2-3명일 때 이탈률과 잔존율이 모두 높은 것을 확인\n",
        "# 이탈률은 3명 > 2명 > 1명 순으로 높은 것을 확인\n",
        "# 잔존율은 3명 > 2명 > 1명 순으로 높은 것을 확인"
      ],
      "metadata": {
        "execution": {
          "iopub.status.busy": "2024-06-23T04:14:23.236389Z",
          "iopub.execute_input": "2024-06-23T04:14:23.239128Z",
          "iopub.status.idle": "2024-06-23T04:14:23.243956Z",
          "shell.execute_reply.started": "2024-06-23T04:14:23.23907Z",
          "shell.execute_reply": "2024-06-23T04:14:23.242771Z"
        },
        "trusted": true,
        "id": "o4EpLUSXmEp_"
      },
      "execution_count": null,
      "outputs": []
    },
    {
      "cell_type": "markdown",
      "source": [
        "#### · 계정 유지 기간별 Data"
      ],
      "metadata": {
        "id": "FOzNY1nNmEp_"
      }
    },
    {
      "cell_type": "code",
      "source": [
        "import pandas as pd\n",
        "import matplotlib.pyplot as plt\n",
        "\n",
        "# 데이터 불러오기\n",
        "df = pd.read_csv('/kaggle/input/zb-da5-competition/BankChurners_.csv')\n",
        "\n",
        "# 'Existing Customer' = 0, 'Attrited Customer' = 1로 치환\n",
        "df['Attrition_Flag'] = df['Attrition_Flag'].map({'Existing Customer': 0, 'Attrited Customer': 1})\n",
        "\n",
        "# 계정 유지 기간 구간화\n",
        "bins = [0, 12, 24, 36, 48, 60, 72, 84]\n",
        "labels = ['0-11', '12-23', '24-35', '36-47', '48-59', '60-71', '72-83']\n",
        "df['Months_Group'] = pd.cut(df['Months_on_book'], bins=bins, labels=labels, right=False)\n",
        "\n",
        "# 이탈 고객과 비이탈 고객으로 나누기\n",
        "attrited = df[df['Attrition_Flag'] == 1]\n",
        "not_attrited = df[df['Attrition_Flag'] == 0]\n",
        "\n",
        "# 각 그룹의 계정 유지 기간 구간별 빈도수 계산\n",
        "attrited_counts = attrited['Months_Group'].value_counts().sort_index()\n",
        "not_attrited_counts = not_attrited['Months_Group'].value_counts().sort_index()\n",
        "\n",
        "# 바 그래프 그리기\n",
        "plt.figure(figsize=(10, 6))\n",
        "width = 0.4  # 막대 너비\n",
        "plt.bar(attrited_counts.index, attrited_counts.values, width=width, label='Attrited', align='center')\n",
        "plt.bar(not_attrited_counts.index, not_attrited_counts.values, width=width, label='Not Attrited', align='edge')\n",
        "\n",
        "# 그래프 설정\n",
        "plt.title('Customer Distribution by Months on Book and Attrition')\n",
        "plt.xlabel('Months on Book')\n",
        "plt.ylabel('Number of Customers')\n",
        "plt.legend(loc='upper right')\n",
        "\n",
        "# 그래프 보여주기\n",
        "plt.show()"
      ],
      "metadata": {
        "execution": {
          "iopub.status.busy": "2024-06-23T04:19:22.472993Z",
          "iopub.execute_input": "2024-06-23T04:19:22.473411Z",
          "iopub.status.idle": "2024-06-23T04:19:22.967576Z",
          "shell.execute_reply.started": "2024-06-23T04:19:22.473377Z",
          "shell.execute_reply": "2024-06-23T04:19:22.966439Z"
        },
        "trusted": true,
        "id": "YxKWAp1hmEp_"
      },
      "execution_count": null,
      "outputs": []
    },
    {
      "cell_type": "code",
      "source": [
        "# 계정 유지 기간별 데이터 확인 결과, 3-4년일 때 이탈률과 잔존율이 모두 높은 것을 확인\n",
        "# 이탈률은 3-4년 > 2-3년 > 4-5년 순으로 높은 것을 확인\n",
        "# 잔존율도 3-4년 > 2-3년 > 4-5년 순으로 높은 것을 확인"
      ],
      "metadata": {
        "execution": {
          "iopub.status.busy": "2024-06-23T04:14:23.661214Z",
          "iopub.execute_input": "2024-06-23T04:14:23.661748Z",
          "iopub.status.idle": "2024-06-23T04:14:23.669929Z",
          "shell.execute_reply.started": "2024-06-23T04:14:23.661691Z",
          "shell.execute_reply": "2024-06-23T04:14:23.667274Z"
        },
        "trusted": true,
        "id": "bsRmxQVtmEp_"
      },
      "execution_count": null,
      "outputs": []
    },
    {
      "cell_type": "markdown",
      "source": [
        "#### · 고객 이용 상품/서비스 개수별 Data"
      ],
      "metadata": {
        "id": "v9qmfvspmEqA"
      }
    },
    {
      "cell_type": "code",
      "source": [
        "import pandas as pd\n",
        "import matplotlib.pyplot as plt\n",
        "\n",
        "import pandas as pd\n",
        "df = pd.read_csv('/kaggle/input/zb-da5-competition/BankChurners_.csv')\n",
        "\n",
        "# 'Existing Customer' = 0, 'Attrited Customer' = 1로 치환\n",
        "df['Attrition_Flag'] = df['Attrition_Flag'].map({'Existing Customer': 0, 'Attrited Customer': 1})\n",
        "\n",
        "# 이용 상품/서비스 개수를 구간화 (4개 미만 / 4개 이상)\n",
        "bins = [0, 4, float('inf')]\n",
        "labels = ['Less than 4', '4 or more']\n",
        "df['Service_Group'] = pd.cut(df['Total_Relationship_Count'], bins=bins, labels=labels, right=False, include_lowest=True)\n",
        "\n",
        "# 이탈 고객과 비이탈 고객으로 나누기\n",
        "attrited = df[df['Attrition_Flag'] == 1]\n",
        "not_attrited = df[df['Attrition_Flag'] == 0]\n",
        "\n",
        "# 각 그룹의 상품/서비스 개수별 빈도수 계산\n",
        "attrited_counts = attrited['Service_Group'].value_counts().sort_index()\n",
        "not_attrited_counts = not_attrited['Service_Group'].value_counts().sort_index()\n",
        "\n",
        "# 바 그래프 그리기\n",
        "plt.figure(figsize=(10, 6))\n",
        "width = 0.4  # 막대 너비\n",
        "plt.bar(attrited_counts.index, attrited_counts.values, width=width, label='Attrited', align='center')\n",
        "plt.bar(not_attrited_counts.index, not_attrited_counts.values, width=width, label='Not Attrited', align='edge')\n",
        "\n",
        "# 그래프 설정\n",
        "plt.title('Customer Distribution by Total Relationship Count and Attrition')\n",
        "plt.xlabel('Total Relationship Count')\n",
        "plt.ylabel('Number of Customers')\n",
        "plt.legend(loc='upper right')\n",
        "\n",
        "# 그래프 보여주기\n",
        "plt.show()"
      ],
      "metadata": {
        "execution": {
          "iopub.status.busy": "2024-06-23T04:14:23.671995Z",
          "iopub.execute_input": "2024-06-23T04:14:23.672363Z",
          "iopub.status.idle": "2024-06-23T04:14:24.048961Z",
          "shell.execute_reply.started": "2024-06-23T04:14:23.672333Z",
          "shell.execute_reply": "2024-06-23T04:14:24.047606Z"
        },
        "trusted": true,
        "id": "uNd_my7nmEqA"
      },
      "execution_count": null,
      "outputs": []
    },
    {
      "cell_type": "code",
      "source": [
        "# 고객 이용 상품/서비스 개수별 데이터 확인 결과\n",
        "# 이탈률은 이용하는 상품이 적을 수록(4개 미만) 높은 것을 확인\n",
        "# 잔존율은 이용하는 상품이 많을 수록(4개 이상) 높은 것을 확인, 이탈율에 비해 차이가 큰 편"
      ],
      "metadata": {
        "execution": {
          "iopub.status.busy": "2024-06-23T04:14:24.051046Z",
          "iopub.execute_input": "2024-06-23T04:14:24.051544Z",
          "iopub.status.idle": "2024-06-23T04:14:24.057543Z",
          "shell.execute_reply.started": "2024-06-23T04:14:24.0515Z",
          "shell.execute_reply": "2024-06-23T04:14:24.055495Z"
        },
        "trusted": true,
        "id": "YzMcQUIUmEqA"
      },
      "execution_count": null,
      "outputs": []
    },
    {
      "cell_type": "markdown",
      "source": [
        "#### · 지난 12개월 동안의 비활성화 월 수별 Data"
      ],
      "metadata": {
        "id": "GAHuzlcUmEqA"
      }
    },
    {
      "cell_type": "code",
      "source": [
        "import pandas as pd\n",
        "import matplotlib.pyplot as plt\n",
        "\n",
        "import pandas as pd\n",
        "df = pd.read_csv('/kaggle/input/zb-da5-competition/BankChurners_.csv')\n",
        "\n",
        "# 'Existing Customer' = 0, 'Attrited Customer' = 1로 치환\n",
        "df['Attrition_Flag'] = df['Attrition_Flag'].map({'Existing Customer': 0, 'Attrited Customer': 1})\n",
        "\n",
        "# 이탈 고객과 비이탈 고객으로 나누기\n",
        "attrited = df[df['Attrition_Flag'] == 1]\n",
        "not_attrited = df[df['Attrition_Flag'] == 0]\n",
        "\n",
        "# 각 비활성화 월 수별 빈도수 계산\n",
        "attrited_counts = attrited['Months_Inactive_12_mon'].value_counts().sort_index()\n",
        "not_attrited_counts = not_attrited['Months_Inactive_12_mon'].value_counts().sort_index()\n",
        "\n",
        "# 바 그래프 그리기\n",
        "plt.figure(figsize=(10, 6))\n",
        "width = 0.4  # 막대 너비\n",
        "plt.bar(attrited_counts.index - width/2, attrited_counts.values, width=width, label='Attrited')\n",
        "plt.bar(not_attrited_counts.index + width/2, not_attrited_counts.values, width=width, label='Not Attrited')\n",
        "\n",
        "# 그래프 설정\n",
        "plt.title('Customer Distribution by Months Inactive in Last 12 Months and Attrition')\n",
        "plt.xlabel('Months Inactive in Last 12 Months')\n",
        "plt.ylabel('Number of Customers')\n",
        "plt.xticks(range(0, max(df['Months_Inactive_12_mon']) + 1))  # X축 눈금을 0부터 최대 비활성화 월 수까지 설정\n",
        "plt.legend(loc='upper right')\n",
        "\n",
        "# 그래프 보여주"
      ],
      "metadata": {
        "execution": {
          "iopub.status.busy": "2024-06-23T04:14:24.059349Z",
          "iopub.execute_input": "2024-06-23T04:14:24.060444Z",
          "iopub.status.idle": "2024-06-23T04:14:24.570411Z",
          "shell.execute_reply.started": "2024-06-23T04:14:24.060399Z",
          "shell.execute_reply": "2024-06-23T04:14:24.568988Z"
        },
        "trusted": true,
        "id": "wKNt0NIDmEqB"
      },
      "execution_count": null,
      "outputs": []
    },
    {
      "cell_type": "code",
      "source": [
        "# 지난 12개월 동안의 비활성화 월 수별 데이터 확인 결과, 비활성화 기간이 2-3개월일 때 유의미하게 이탈률이 높은 것을 확인\n",
        "# 잔존율의 경우 비활성화 기간 1-3개월일 때 가장 높은 것을 확인"
      ],
      "metadata": {
        "execution": {
          "iopub.status.busy": "2024-06-23T04:14:24.572436Z",
          "iopub.execute_input": "2024-06-23T04:14:24.572827Z",
          "iopub.status.idle": "2024-06-23T04:14:24.579965Z",
          "shell.execute_reply.started": "2024-06-23T04:14:24.572795Z",
          "shell.execute_reply": "2024-06-23T04:14:24.578531Z"
        },
        "trusted": true,
        "id": "JKm6GJ7ymEqB"
      },
      "execution_count": null,
      "outputs": []
    },
    {
      "cell_type": "markdown",
      "source": [
        "#### · 최근 12개월 연락 횟수별 Data"
      ],
      "metadata": {
        "id": "qvEog-4rmEqB"
      }
    },
    {
      "cell_type": "code",
      "source": [
        "import pandas as pd\n",
        "import matplotlib.pyplot as plt\n",
        "\n",
        "import pandas as pd\n",
        "df = pd.read_csv('/kaggle/input/zb-da5-competition/BankChurners_.csv')\n",
        "\n",
        "# 'Existing Customer' = 0, 'Attrited Customer' = 1로 치환\n",
        "df['Attrition_Flag'] = df['Attrition_Flag'].map({'Existing Customer': 0, 'Attrited Customer': 1})\n",
        "\n",
        "# 이탈 고객과 비이탈 고객으로 나누기\n",
        "attrited = df[df['Attrition_Flag'] == 1]\n",
        "not_attrited = df[df['Attrition_Flag'] == 0]\n",
        "\n",
        "# 각 연락 횟수별 빈도수 계산\n",
        "attrited_counts = attrited['Contacts_Count_12_mon'].value_counts().sort_index()\n",
        "not_attrited_counts = not_attrited['Contacts_Count_12_mon'].value_counts().sort_index()\n",
        "\n",
        "# 바 그래프 그리기\n",
        "plt.figure(figsize=(10, 6))\n",
        "width = 0.4  # 막대 너비\n",
        "plt.bar(attrited_counts.index - width/2, attrited_counts.values, width=width, label='Attrited')\n",
        "plt.bar(not_attrited_counts.index + width/2, not_attrited_counts.values, width=width, label='Not Attrited')\n",
        "\n",
        "# 그래프 설정\n",
        "plt.title('Customer Distribution by Contacts in Last 12 Months and Attrition')\n",
        "plt.xlabel('Contacts in Last 12 Months')\n",
        "plt.ylabel('Number of Customers')\n",
        "plt.xticks(range(0, max(df['Contacts_Count_12_mon']) + 1))  # X축 눈금을 0부터 최대 연락 횟수까지 설정\n",
        "plt.legend(loc='upper right')\n",
        "\n",
        "# 그래프 보여주기\n",
        "plt.show()\n"
      ],
      "metadata": {
        "execution": {
          "iopub.status.busy": "2024-06-23T04:14:24.581485Z",
          "iopub.execute_input": "2024-06-23T04:14:24.581877Z",
          "iopub.status.idle": "2024-06-23T04:14:25.002736Z",
          "shell.execute_reply.started": "2024-06-23T04:14:24.581845Z",
          "shell.execute_reply": "2024-06-23T04:14:25.001377Z"
        },
        "trusted": true,
        "id": "-X3s8-OfmEqB"
      },
      "execution_count": null,
      "outputs": []
    },
    {
      "cell_type": "code",
      "source": [
        "# 지난 12개월 동안의 연락 횟수별 데이터 확인 결과, 2-4번일 때 유의미하게 이탈률이 높은 것을 확인\n",
        "# 잔존율의 경우 연락 횟수 2-3번일 때 가장 높은 것을 확인"
      ],
      "metadata": {
        "execution": {
          "iopub.status.busy": "2024-06-23T04:14:25.004456Z",
          "iopub.execute_input": "2024-06-23T04:14:25.00511Z",
          "iopub.status.idle": "2024-06-23T04:14:25.009992Z",
          "shell.execute_reply.started": "2024-06-23T04:14:25.005078Z",
          "shell.execute_reply": "2024-06-23T04:14:25.00845Z"
        },
        "trusted": true,
        "id": "P89EgqaOmEqB"
      },
      "execution_count": null,
      "outputs": []
    },
    {
      "cell_type": "markdown",
      "source": [
        "#### · 신용 한도별 Data"
      ],
      "metadata": {
        "id": "qk7CV4akmEqC"
      }
    },
    {
      "cell_type": "code",
      "source": [
        "import pandas as pd\n",
        "import matplotlib.pyplot as plt\n",
        "\n",
        "import pandas as pd\n",
        "df = pd.read_csv('/kaggle/input/zb-da5-competition/BankChurners_.csv')\n",
        "\n",
        "# 'Existing Customer' = 0, 'Attrited Customer' = 1로 치환\n",
        "df['Attrition_Flag'] = df['Attrition_Flag'].map({'Existing Customer': 0, 'Attrited Customer': 1})\n",
        "\n",
        "# 신용 한도를 구간으로 그룹화\n",
        "bins = [0, 3000, 6000, 9000, 12000, 15000, 18000]  # 구간 설정\n",
        "labels = ['0-2999', '3000-5999', '6000-8999', '9000-11999', '12000-14999', '15000-17999']\n",
        "df['Credit_Limit_Group'] = pd.cut(df['Credit_Limit'], bins=bins, labels=labels, right=False, include_lowest=True)\n",
        "\n",
        "# 이탈 고객과 비이탈 고객으로 나누기\n",
        "attrited = df[df['Attrition_Flag'] == 1]\n",
        "not_attrited = df[df['Attrition_Flag'] == 0]\n",
        "\n",
        "# 각 그룹의 신용 한도별 빈도수 계산\n",
        "attrited_counts = attrited['Credit_Limit_Group'].value_counts().sort_index()\n",
        "not_attrited_counts = not_attrited['Credit_Limit_Group'].value_counts().sort_index()\n",
        "\n",
        "# 바 그래프 그리기\n",
        "plt.figure(figsize=(10, 6))\n",
        "width = 0.4  # 막대 너비\n",
        "plt.bar(attrited_counts.index, attrited_counts.values, width=width, label='Attrited', align='center')\n",
        "plt.bar(not_attrited_counts.index, not_attrited_counts.values, width=width, label='Not Attrited', align='edge')\n",
        "\n",
        "# 그래프 설정\n",
        "plt.title('Customer Distribution by Credit Limit and Attrition')\n",
        "plt.xlabel('Credit Limit')\n",
        "plt.ylabel('Number of Customers')\n",
        "plt.legend(loc='upper right')\n",
        "\n",
        "# 그래프 보여주기\n",
        "plt.show()\n"
      ],
      "metadata": {
        "execution": {
          "iopub.status.busy": "2024-06-23T04:14:25.011736Z",
          "iopub.execute_input": "2024-06-23T04:14:25.012117Z",
          "iopub.status.idle": "2024-06-23T04:14:25.407005Z",
          "shell.execute_reply.started": "2024-06-23T04:14:25.012086Z",
          "shell.execute_reply": "2024-06-23T04:14:25.405616Z"
        },
        "trusted": true,
        "id": "Tfn0vPUbmEqC"
      },
      "execution_count": null,
      "outputs": []
    },
    {
      "cell_type": "code",
      "source": [
        "# 신용 한도별 데이터 확인 결과, 한도가 낮을 수록 이탈률과 잔존율이 모두 높은 것을 확인\n",
        "# 한도가 높을 수록 이탈률과 잔존율 모두 낮아짐"
      ],
      "metadata": {
        "execution": {
          "iopub.status.busy": "2024-06-23T04:14:25.408689Z",
          "iopub.execute_input": "2024-06-23T04:14:25.409136Z",
          "iopub.status.idle": "2024-06-23T04:14:25.414505Z",
          "shell.execute_reply.started": "2024-06-23T04:14:25.40909Z",
          "shell.execute_reply": "2024-06-23T04:14:25.413444Z"
        },
        "trusted": true,
        "id": "4b9kiFfKmEqG"
      },
      "execution_count": null,
      "outputs": []
    },
    {
      "cell_type": "markdown",
      "source": [
        "#### · 총 거래 금액별 Data"
      ],
      "metadata": {
        "id": "DNvzWJQymEqH"
      }
    },
    {
      "cell_type": "code",
      "source": [
        "import pandas as pd\n",
        "import matplotlib.pyplot as plt\n",
        "import seaborn as sns\n",
        "\n",
        "import pandas as pd\n",
        "df = pd.read_csv('/kaggle/input/zb-da5-competition/BankChurners_.csv')\n",
        "\n",
        "# 'Existing Customer' = 0, 'Attrited Customer' = 1로 치환\n",
        "df['Attrition_Flag'] = df['Attrition_Flag'].map({'Existing Customer': 0, 'Attrited Customer': 1})\n",
        "\n",
        "# KDE 그래프 그리기\n",
        "plt.figure(figsize=(10, 6))\n",
        "sns.kdeplot(data=df[df['Attrition_Flag'] == 0]['Total_Trans_Amt'], label='Not Attrited', fill=True)\n",
        "sns.kdeplot(data=df[df['Attrition_Flag'] == 1]['Total_Trans_Amt'], label='Attrited', fill=True)\n",
        "\n",
        "# 그래프 설정\n",
        "plt.title('Total Transaction Amount by Attrition Status')\n",
        "plt.xlabel('Total Transaction Amount')\n",
        "plt.ylabel('Density')\n",
        "plt.legend()\n",
        "\n",
        "# 그래프 보여주기\n",
        "plt.show()"
      ],
      "metadata": {
        "execution": {
          "iopub.status.busy": "2024-06-23T04:14:25.416076Z",
          "iopub.execute_input": "2024-06-23T04:14:25.416711Z",
          "iopub.status.idle": "2024-06-23T04:14:27.663124Z",
          "shell.execute_reply.started": "2024-06-23T04:14:25.416675Z",
          "shell.execute_reply": "2024-06-23T04:14:27.661768Z"
        },
        "trusted": true,
        "id": "HeKckXRgmEqH"
      },
      "execution_count": null,
      "outputs": []
    },
    {
      "cell_type": "code",
      "source": [
        "# 총 거래 금액별 데이터 확인 결과, 총 거래 금액이 5,000 미만일 때 이탈률이 가장 높은 것을 확인\n",
        "# 잔존율의 경우 총 거래 금액이 0 - 5,000일 때 가장 높은 추세를 보임"
      ],
      "metadata": {
        "execution": {
          "iopub.status.busy": "2024-06-23T04:14:27.6655Z",
          "iopub.execute_input": "2024-06-23T04:14:27.665989Z",
          "iopub.status.idle": "2024-06-23T04:14:27.671951Z",
          "shell.execute_reply.started": "2024-06-23T04:14:27.665946Z",
          "shell.execute_reply": "2024-06-23T04:14:27.670384Z"
        },
        "trusted": true,
        "id": "sLEZhXj1mEqH"
      },
      "execution_count": null,
      "outputs": []
    },
    {
      "cell_type": "markdown",
      "source": [
        "#### · 총 거래 횟수별 Data"
      ],
      "metadata": {
        "id": "gWnl6IBJmEqH"
      }
    },
    {
      "cell_type": "code",
      "source": [
        "import pandas as pd\n",
        "import matplotlib.pyplot as plt\n",
        "import seaborn as sns\n",
        "\n",
        "import pandas as pd\n",
        "df = pd.read_csv('/kaggle/input/zb-da5-competition/BankChurners_.csv')\n",
        "\n",
        "# 'Existing Customer' = 0, 'Attrited Customer' = 1로 치환\n",
        "df['Attrition_Flag'] = df['Attrition_Flag'].map({'Existing Customer': 0, 'Attrited Customer': 1})\n",
        "\n",
        "# KDE 그래프 그리기\n",
        "plt.figure(figsize=(10, 6))\n",
        "sns.kdeplot(data=df[df['Attrition_Flag'] == 0]['Total_Trans_Ct'], label='Not Attrited', fill=True)\n",
        "sns.kdeplot(data=df[df['Attrition_Flag'] == 1]['Total_Trans_Ct'], label='Attrited', fill=True)\n",
        "\n",
        "# 그래프 설정\n",
        "plt.title('Total Transaction Count by Attrition Status')\n",
        "plt.xlabel('Total Transaction Count')\n",
        "plt.ylabel('Density')\n",
        "plt.legend()\n",
        "\n",
        "# 그래프 보여주기\n",
        "plt.show()\n"
      ],
      "metadata": {
        "execution": {
          "iopub.status.busy": "2024-06-23T04:14:27.673804Z",
          "iopub.execute_input": "2024-06-23T04:14:27.675118Z",
          "iopub.status.idle": "2024-06-23T04:14:28.273748Z",
          "shell.execute_reply.started": "2024-06-23T04:14:27.675073Z",
          "shell.execute_reply": "2024-06-23T04:14:28.272558Z"
        },
        "trusted": true,
        "id": "gQkc6GLGmEqH"
      },
      "execution_count": null,
      "outputs": []
    },
    {
      "cell_type": "code",
      "source": [
        "# 총 거래 횟수별 데이터 확인 결과, 총 거래 횟수가 40회 가량일 때 이탈률이 가장 높은 것을 확인\n",
        "# 잔존율의 경우 총 거래 횟수가 60-80회일 때 가장 높은 추세를 보임"
      ],
      "metadata": {
        "execution": {
          "iopub.status.busy": "2024-06-23T04:14:28.275684Z",
          "iopub.execute_input": "2024-06-23T04:14:28.276121Z",
          "iopub.status.idle": "2024-06-23T04:14:28.283297Z",
          "shell.execute_reply.started": "2024-06-23T04:14:28.276081Z",
          "shell.execute_reply": "2024-06-23T04:14:28.280935Z"
        },
        "trusted": true,
        "id": "mdlS3htymEqH"
      },
      "execution_count": null,
      "outputs": []
    },
    {
      "cell_type": "markdown",
      "source": [
        "#### · 1분기 대비 4분기 총 금액 변동비율 Data"
      ],
      "metadata": {
        "id": "lBGnfNMXmEqI"
      }
    },
    {
      "cell_type": "code",
      "source": [
        "import pandas as pd\n",
        "import matplotlib.pyplot as plt\n",
        "\n",
        "import pandas as pd\n",
        "df = pd.read_csv('/kaggle/input/zb-da5-competition/BankChurners_.csv')\n",
        "\n",
        "# 'Existing Customer' = 0, 'Attrited Customer' = 1로 치환\n",
        "df['Attrition_Flag'] = df['Attrition_Flag'].map({'Existing Customer': 0, 'Attrited Customer': 1})\n",
        "\n",
        "# KDE 그래프 그리기\n",
        "plt.figure(figsize=(10, 6))\n",
        "sns.kdeplot(data=df[df['Attrition_Flag'] == 0]['Total_Amt_Chng_Q4_Q1'], label='Not Attrited', fill=True)\n",
        "sns.kdeplot(data=df[df['Attrition_Flag'] == 1]['Total_Amt_Chng_Q4_Q1'], label='Attrited', fill=True)\n",
        "\n",
        "# 그래프 설정\n",
        "plt.title('Total Amount Change Q4 to Q1 by Attrition Status')\n",
        "plt.xlabel('Total Amount Change Q4 to Q1')\n",
        "plt.ylabel('Density')\n",
        "plt.legend()\n",
        "\n",
        "# 그래프 보여주기\n",
        "plt.show()"
      ],
      "metadata": {
        "execution": {
          "iopub.status.busy": "2024-06-23T04:14:28.292162Z",
          "iopub.execute_input": "2024-06-23T04:14:28.292637Z",
          "iopub.status.idle": "2024-06-23T04:14:28.863333Z",
          "shell.execute_reply.started": "2024-06-23T04:14:28.292602Z",
          "shell.execute_reply": "2024-06-23T04:14:28.862084Z"
        },
        "trusted": true,
        "id": "ye4IZTHCmEqI"
      },
      "execution_count": null,
      "outputs": []
    },
    {
      "cell_type": "code",
      "source": [
        "# 1분기 대비 4분기 총 금액 변동비율 데이터 확인 결과, 0.5-1.0 구간에서 이탈률과 잔존율이 모두 가장 높은 것을 확인"
      ],
      "metadata": {
        "execution": {
          "iopub.status.busy": "2024-06-23T04:14:28.865003Z",
          "iopub.execute_input": "2024-06-23T04:14:28.865441Z",
          "iopub.status.idle": "2024-06-23T04:14:28.871052Z",
          "shell.execute_reply.started": "2024-06-23T04:14:28.8654Z",
          "shell.execute_reply": "2024-06-23T04:14:28.869934Z"
        },
        "trusted": true,
        "id": "Ypb-EMp5mEqI"
      },
      "execution_count": null,
      "outputs": []
    },
    {
      "cell_type": "markdown",
      "source": [
        "#### · 1분기 대비 4분기 총 거래 횟수 변동비율 Data"
      ],
      "metadata": {
        "id": "AwpIHtdjmEqI"
      }
    },
    {
      "cell_type": "code",
      "source": [
        "import pandas as pd\n",
        "import matplotlib.pyplot as plt\n",
        "\n",
        "import pandas as pd\n",
        "df = pd.read_csv('/kaggle/input/zb-da5-competition/BankChurners_.csv')\n",
        "\n",
        "# 'Existing Customer' = 0, 'Attrited Customer' = 1로 치환\n",
        "df['Attrition_Flag'] = df['Attrition_Flag'].map({'Existing Customer': 0, 'Attrited Customer': 1})\n",
        "\n",
        "# KDE 그래프 그리기\n",
        "plt.figure(figsize=(10, 6))\n",
        "sns.kdeplot(data=df[df['Attrition_Flag'] == 0]['Total_Ct_Chng_Q4_Q1'], label='Not Attrited', fill=True)\n",
        "sns.kdeplot(data=df[df['Attrition_Flag'] == 1]['Total_Ct_Chng_Q4_Q1'], label='Attrited', fill=True)\n",
        "\n",
        "# 그래프 설정\n",
        "plt.title('Total Transaction Count Change Q4 to Q1 by Attrition Status')\n",
        "plt.xlabel('Total Transaction Count Change Q4 to Q1')\n",
        "plt.ylabel('Density')\n",
        "plt.legend()\n",
        "\n",
        "# 그래프 보여주기\n",
        "plt.show()"
      ],
      "metadata": {
        "execution": {
          "iopub.status.busy": "2024-06-23T04:14:28.872269Z",
          "iopub.execute_input": "2024-06-23T04:14:28.872615Z",
          "iopub.status.idle": "2024-06-23T04:14:29.465111Z",
          "shell.execute_reply.started": "2024-06-23T04:14:28.872586Z",
          "shell.execute_reply": "2024-06-23T04:14:29.463835Z"
        },
        "trusted": true,
        "id": "QPhoUh0UmEqI"
      },
      "execution_count": null,
      "outputs": []
    },
    {
      "cell_type": "code",
      "source": [
        "# 1분기 대비 4분기 총 거래횟수 변동비율 데이터 확인 결과, 0-0.5 구간에서 이탈률이 가장 높은 것을 확인\n",
        "# 잔존율의 경우 0.5-1.0 구간에서 가장 높은 것을 확인"
      ],
      "metadata": {
        "execution": {
          "iopub.status.busy": "2024-06-23T04:14:29.466664Z",
          "iopub.execute_input": "2024-06-23T04:14:29.467103Z",
          "iopub.status.idle": "2024-06-23T04:14:29.472488Z",
          "shell.execute_reply.started": "2024-06-23T04:14:29.467064Z",
          "shell.execute_reply": "2024-06-23T04:14:29.471306Z"
        },
        "trusted": true,
        "id": "kmtOroKimEqI"
      },
      "execution_count": null,
      "outputs": []
    },
    {
      "cell_type": "markdown",
      "source": [
        "### · Categorical 변수"
      ],
      "metadata": {
        "id": "6eJN-odOmEqJ"
      }
    },
    {
      "cell_type": "code",
      "source": [
        "df[categorical_list]"
      ],
      "metadata": {
        "execution": {
          "iopub.status.busy": "2024-06-23T04:14:29.474048Z",
          "iopub.execute_input": "2024-06-23T04:14:29.474521Z",
          "iopub.status.idle": "2024-06-23T04:14:29.497872Z",
          "shell.execute_reply.started": "2024-06-23T04:14:29.47444Z",
          "shell.execute_reply": "2024-06-23T04:14:29.496703Z"
        },
        "trusted": true,
        "id": "2bTy1GPgmEqJ"
      },
      "execution_count": null,
      "outputs": []
    },
    {
      "cell_type": "markdown",
      "source": [
        "#### · 성별 Data"
      ],
      "metadata": {
        "id": "pMzt2HjzmEqJ"
      }
    },
    {
      "cell_type": "code",
      "source": [
        "import pandas as pd\n",
        "import matplotlib.pyplot as plt\n",
        "\n",
        "import pandas as pd\n",
        "df = pd.read_csv('/kaggle/input/zb-da5-competition/BankChurners_.csv')\n",
        "\n",
        "# 'Existing Customer' = 0, 'Attrited Customer' = 1로 치환\n",
        "df['Attrition_Flag'] = df['Attrition_Flag'].map({'Existing Customer': 0, 'Attrited Customer': 1})\n",
        "\n",
        "# 성별별 이탈 고객과 비이탈 고객 수 계산\n",
        "gender_attrited = df[df['Attrition_Flag'] == 1]['Gender'].value_counts()\n",
        "gender_not_attrited = df[df['Attrition_Flag'] == 0]['Gender'].value_counts()\n",
        "\n",
        "# 막대 그래프 그리기\n",
        "labels = gender_attrited.index.union(gender_not_attrited.index)  # 모든 성별 레이블을 포함\n",
        "attrited_counts = gender_attrited.reindex(labels, fill_value=0)\n",
        "not_attrited_counts = gender_not_attrited.reindex(labels, fill_value=0)\n",
        "\n",
        "x = range(len(labels))  # 레이블 인덱스\n",
        "\n",
        "plt.figure(figsize=(10, 6))\n",
        "bar_width = 0.35\n",
        "plt.bar([i - bar_width/2 for i in x], not_attrited_counts, width=bar_width, label='Not Attrited')\n",
        "plt.bar([i + bar_width/2 for i in x], attrited_counts, width=bar_width, label='Attrited')\n",
        "\n",
        "# 그래프 설정\n",
        "plt.title('Customer Distribution by Gender and Attrition Status')\n",
        "plt.xlabel('Gender')\n",
        "plt.ylabel('Number of Customers')\n",
        "plt.xticks(x, labels)  # x축 레이블 설정\n",
        "plt.legend()\n",
        "\n",
        "# 그래프 보여주기\n",
        "plt.show()"
      ],
      "metadata": {
        "execution": {
          "iopub.status.busy": "2024-06-23T04:14:29.499109Z",
          "iopub.execute_input": "2024-06-23T04:14:29.499505Z",
          "iopub.status.idle": "2024-06-23T04:14:29.776842Z",
          "shell.execute_reply.started": "2024-06-23T04:14:29.499446Z",
          "shell.execute_reply": "2024-06-23T04:14:29.775716Z"
        },
        "trusted": true,
        "id": "ZZ2E0ckCmEqJ"
      },
      "execution_count": null,
      "outputs": []
    },
    {
      "cell_type": "code",
      "source": [
        "# 성별 데이터 확인 결과, 이탈률과 잔존율 모두 남성보다 여성 고객이 높음"
      ],
      "metadata": {
        "execution": {
          "iopub.status.busy": "2024-06-23T04:14:29.778172Z",
          "iopub.execute_input": "2024-06-23T04:14:29.778518Z",
          "iopub.status.idle": "2024-06-23T04:14:29.783875Z",
          "shell.execute_reply.started": "2024-06-23T04:14:29.778488Z",
          "shell.execute_reply": "2024-06-23T04:14:29.782731Z"
        },
        "trusted": true,
        "id": "cDmnsisfmEqJ"
      },
      "execution_count": null,
      "outputs": []
    },
    {
      "cell_type": "markdown",
      "source": [
        "#### · 교육 수준별 Data"
      ],
      "metadata": {
        "id": "xJWwSItzmEqK"
      }
    },
    {
      "cell_type": "code",
      "source": [
        "import pandas as pd\n",
        "import matplotlib.pyplot as plt\n",
        "\n",
        "import pandas as pd\n",
        "df = pd.read_csv('/kaggle/input/zb-da5-competition/BankChurners_.csv')\n",
        "\n",
        "# 'Existing Customer' = 0, 'Attrited Customer' = 1로 치환\n",
        "df['Attrition_Flag'] = df['Attrition_Flag'].map({'Existing Customer': 0, 'Attrited Customer': 1})\n",
        "\n",
        "# 교육 수준별 이탈 고객과 비이탈 고객 수 계산\n",
        "education_attrited = df[df['Attrition_Flag'] == 1]['Education_Level'].value_counts()\n",
        "education_not_attrited = df[df['Attrition_Flag'] == 0]['Education_Level'].value_counts()\n",
        "\n",
        "# 막대 그래프 그리기\n",
        "labels = education_attrited.index.union(education_not_attrited.index)  # 모든 교육 수준 레이블을 포함\n",
        "attrited_counts = education_attrited.reindex(labels, fill_value=0)\n",
        "not_attrited_counts = education_not_attrited.reindex(labels, fill_value=0)\n",
        "\n",
        "x = range(len(labels))  # 레이블 인덱스\n",
        "\n",
        "plt.figure(figsize=(12, 6))\n",
        "bar_width = 0.35\n",
        "plt.bar([i - bar_width/2 for i in x], not_attrited_counts, width=bar_width, label='Not Attrited')\n",
        "plt.bar([i + bar_width/2 for i in x], attrited_counts, width=bar_width, label='Attrited')\n",
        "\n",
        "# 그래프 설정\n",
        "plt.title('Customer Distribution by Education Level and Attrition Status')\n",
        "plt.xlabel('Education Level')\n",
        "plt.ylabel('Number of Customers')\n",
        "plt.xticks(x, labels, rotation=45)  # x축 레이블 설정 및 회전\n",
        "plt.legend()\n",
        "\n",
        "# 그래프 보여주기\n",
        "plt.show()\n"
      ],
      "metadata": {
        "execution": {
          "iopub.status.busy": "2024-06-23T04:14:29.785396Z",
          "iopub.execute_input": "2024-06-23T04:14:29.785797Z",
          "iopub.status.idle": "2024-06-23T04:14:30.183671Z",
          "shell.execute_reply.started": "2024-06-23T04:14:29.785765Z",
          "shell.execute_reply": "2024-06-23T04:14:30.182507Z"
        },
        "trusted": true,
        "id": "NXp6Fpz2mEqK"
      },
      "execution_count": null,
      "outputs": []
    },
    {
      "cell_type": "code",
      "source": [
        "# 교육 수준별 데이터 확인 결과, 이탈률과 잔존율 모두 Graduate > High School > Unknown > Uneducated 그룹 순으로 높은 것을 확인"
      ],
      "metadata": {
        "execution": {
          "iopub.status.busy": "2024-06-23T04:14:30.18518Z",
          "iopub.execute_input": "2024-06-23T04:14:30.185617Z",
          "iopub.status.idle": "2024-06-23T04:14:30.191015Z",
          "shell.execute_reply.started": "2024-06-23T04:14:30.185579Z",
          "shell.execute_reply": "2024-06-23T04:14:30.189686Z"
        },
        "trusted": true,
        "id": "FV9oBzOfmEqK"
      },
      "execution_count": null,
      "outputs": []
    },
    {
      "cell_type": "markdown",
      "source": [
        "#### · 결혼 상태별 Data"
      ],
      "metadata": {
        "id": "trYEh24UmEqK"
      }
    },
    {
      "cell_type": "code",
      "source": [
        "import pandas as pd\n",
        "import matplotlib.pyplot as plt\n",
        "\n",
        "import pandas as pd\n",
        "df = pd.read_csv('/kaggle/input/zb-da5-competition/BankChurners_.csv')\n",
        "\n",
        "# 'Existing Customer' = 0, 'Attrited Customer' = 1로 치환\n",
        "df['Attrition_Flag'] = df['Attrition_Flag'].map({'Existing Customer': 0, 'Attrited Customer': 1})\n",
        "\n",
        "# 결혼 상태별 이탈 고객과 비이탈 고객 수 계산\n",
        "marital_attrited = df[df['Attrition_Flag'] == 1]['Marital_Status'].value_counts()\n",
        "marital_not_attrited = df[df['Attrition_Flag'] == 0]['Marital_Status'].value_counts()\n",
        "\n",
        "# 막대 그래프 그리기\n",
        "labels = marital_attrited.index.union(marital_not_attrited.index)  # 모든 결혼 상태 레이블을 포함\n",
        "attrited_counts = marital_attrited.reindex(labels, fill_value=0)\n",
        "not_attrited_counts = marital_not_attrited.reindex(labels, fill_value=0)\n",
        "\n",
        "x = range(len(labels))  # 레이블 인덱스\n",
        "\n",
        "plt.figure(figsize=(12, 6))\n",
        "bar_width = 0.35\n",
        "plt.bar([i - bar_width/2 for i in x], not_attrited_counts, width=bar_width, label='Not Attrited')\n",
        "plt.bar([i + bar_width/2 for i in x], attrited_counts, width=bar_width, label='Attrited')\n",
        "\n",
        "# 그래프 설정\n",
        "plt.title('Customer Distribution by Marital Status and Attrition Status')\n",
        "plt.xlabel('Marital Status')\n",
        "plt.ylabel('Number of Customers')\n",
        "plt.xticks(x, labels)  # x축 레이블 설정\n",
        "plt.legend()\n",
        "\n",
        "# 그래프 보여주기\n",
        "plt.show()"
      ],
      "metadata": {
        "execution": {
          "iopub.status.busy": "2024-06-23T04:14:30.192757Z",
          "iopub.execute_input": "2024-06-23T04:14:30.193172Z",
          "iopub.status.idle": "2024-06-23T04:14:30.595854Z",
          "shell.execute_reply.started": "2024-06-23T04:14:30.193136Z",
          "shell.execute_reply": "2024-06-23T04:14:30.594553Z"
        },
        "trusted": true,
        "id": "jYjZ99n9mEqK"
      },
      "execution_count": null,
      "outputs": []
    },
    {
      "cell_type": "code",
      "source": [
        "# 결혼 상태별 데이터 확인 결과, 기혼 그룹과 싱글 그룹에서 이탈률과 잔존율 모두 높은 것을 확인"
      ],
      "metadata": {
        "execution": {
          "iopub.status.busy": "2024-06-23T04:14:30.597831Z",
          "iopub.execute_input": "2024-06-23T04:14:30.598286Z",
          "iopub.status.idle": "2024-06-23T04:14:30.60499Z",
          "shell.execute_reply.started": "2024-06-23T04:14:30.598246Z",
          "shell.execute_reply": "2024-06-23T04:14:30.603637Z"
        },
        "trusted": true,
        "id": "EBwopNTcmEqK"
      },
      "execution_count": null,
      "outputs": []
    },
    {
      "cell_type": "markdown",
      "source": [
        "#### · 소득 범위별 Data"
      ],
      "metadata": {
        "id": "d1qf1iHnmEqL"
      }
    },
    {
      "cell_type": "code",
      "source": [
        "import pandas as pd\n",
        "import matplotlib.pyplot as plt\n",
        "\n",
        "import pandas as pd\n",
        "df = pd.read_csv('/kaggle/input/zb-da5-competition/BankChurners_.csv')\n",
        "\n",
        "# 'Existing Customer' = 0, 'Attrited Customer' = 1로 치환\n",
        "df['Attrition_Flag'] = df['Attrition_Flag'].map({'Existing Customer': 0, 'Attrited Customer': 1})\n",
        "\n",
        "# 소득 범위별 이탈 고객과 비이탈 고객 수 계산\n",
        "income_attrited = df[df['Attrition_Flag'] == 1]['Income_Category'].value_counts()\n",
        "income_not_attrited = df[df['Attrition_Flag'] == 0]['Income_Category'].value_counts()\n",
        "\n",
        "# 막대 그래프 그리기\n",
        "labels = income_attrited.index.union(income_not_attrited.index)  # 모든 소득 범위 레이블을 포함\n",
        "attrited_counts = income_attrited.reindex(labels, fill_value=0)\n",
        "not_attrited_counts = income_not_attrited.reindex(labels, fill_value=0)\n",
        "\n",
        "x = range(len(labels))  # 레이블 인덱스\n",
        "\n",
        "plt.figure(figsize=(12, 6))\n",
        "bar_width = 0.35\n",
        "plt.bar([i - bar_width/2 for i in x], not_attrited_counts, width=bar_width, label='Not Attrited')\n",
        "plt.bar([i + bar_width/2 for i in x], attrited_counts, width=bar_width, label='Attrited')\n",
        "\n",
        "# 그래프 설정\n",
        "plt.title('Customer Distribution by Income Category and Attrition Status')\n",
        "plt.xlabel('Income Category')\n",
        "plt.ylabel('Number of Customers')\n",
        "plt.xticks(x, labels, rotation=45)  # x축 레이블 설정 및 회전\n",
        "plt.legend()\n",
        "\n",
        "# 그래프 보여주기\n",
        "plt.show()"
      ],
      "metadata": {
        "execution": {
          "iopub.status.busy": "2024-06-23T04:14:30.606456Z",
          "iopub.execute_input": "2024-06-23T04:14:30.607001Z",
          "iopub.status.idle": "2024-06-23T04:14:31.097744Z",
          "shell.execute_reply.started": "2024-06-23T04:14:30.606968Z",
          "shell.execute_reply": "2024-06-23T04:14:31.09585Z"
        },
        "trusted": true,
        "id": "eN65wUG_mEqL"
      },
      "execution_count": null,
      "outputs": []
    },
    {
      "cell_type": "code",
      "source": [
        "# 소득 범위별 데이터 확인 결과, 이탈률과 잔존율 모두 소득이 낮을 수록 높은 것을 확인"
      ],
      "metadata": {
        "execution": {
          "iopub.status.busy": "2024-06-23T04:14:31.099574Z",
          "iopub.execute_input": "2024-06-23T04:14:31.100034Z",
          "iopub.status.idle": "2024-06-23T04:14:31.105673Z",
          "shell.execute_reply.started": "2024-06-23T04:14:31.099995Z",
          "shell.execute_reply": "2024-06-23T04:14:31.104403Z"
        },
        "trusted": true,
        "id": "02nEE61DmEqL"
      },
      "execution_count": null,
      "outputs": []
    },
    {
      "cell_type": "markdown",
      "source": [
        "#### · 신용카드 유형별 Data"
      ],
      "metadata": {
        "id": "QhhyXnUtmEqL"
      }
    },
    {
      "cell_type": "code",
      "source": [
        "import pandas as pd\n",
        "import matplotlib.pyplot as plt\n",
        "\n",
        "import pandas as pd\n",
        "df = pd.read_csv('/kaggle/input/zb-da5-competition/BankChurners_.csv')\n",
        "\n",
        "# 'Existing Customer' = 0, 'Attrited Customer' = 1로 치환\n",
        "df['Attrition_Flag'] = df['Attrition_Flag'].map({'Existing Customer': 0, 'Attrited Customer': 1})\n",
        "\n",
        "# 신용카드 유형별 이탈 고객과 비이탈 고객 수 계산\n",
        "card_attrited = df[df['Attrition_Flag'] == 1]['Card_Category'].value_counts()\n",
        "card_not_attrited = df[df['Attrition_Flag'] == 0]['Card_Category'].value_counts()\n",
        "\n",
        "# 막대 그래프 그리기\n",
        "labels = card_attrited.index.union(card_not_attrited.index)  # 모든 신용카드 유형 레이블을 포함\n",
        "attrited_counts = card_attrited.reindex(labels, fill_value=0)\n",
        "not_attrited_counts = card_not_attrited.reindex(labels, fill_value=0)\n",
        "\n",
        "x = range(len(labels))  # 레이블 인덱스\n",
        "\n",
        "plt.figure(figsize=(12, 6))\n",
        "bar_width = 0.35\n",
        "plt.bar([i - bar_width/2 for i in x], not_attrited_counts, width=bar_width, label='Not Attrited')\n",
        "plt.bar([i + bar_width/2 for i in x], attrited_counts, width=bar_width, label='Attrited')\n",
        "\n",
        "# 그래프 설정\n",
        "plt.title('Customer Distribution by Card Category and Attrition Status')\n",
        "plt.xlabel('Card Category')\n",
        "plt.ylabel('Number of Customers')\n",
        "plt.xticks(x, labels)  # x축 레이블 설정\n",
        "plt.legend()\n",
        "\n",
        "# 그래프 보여주기\n",
        "plt.show()"
      ],
      "metadata": {
        "execution": {
          "iopub.status.busy": "2024-06-23T04:14:31.107011Z",
          "iopub.execute_input": "2024-06-23T04:14:31.107362Z",
          "iopub.status.idle": "2024-06-23T04:14:31.615255Z",
          "shell.execute_reply.started": "2024-06-23T04:14:31.107332Z",
          "shell.execute_reply": "2024-06-23T04:14:31.613943Z"
        },
        "trusted": true,
        "id": "8ZL7PinfmEqL"
      },
      "execution_count": null,
      "outputs": []
    },
    {
      "cell_type": "code",
      "source": [
        "# 카드 유형별 데이터 확인 결과, BLUE 카드에서 이탈률과 잔존율 모두 가장 높은 것으로 확인"
      ],
      "metadata": {
        "execution": {
          "iopub.status.busy": "2024-06-23T04:14:31.616654Z",
          "iopub.execute_input": "2024-06-23T04:14:31.616975Z",
          "iopub.status.idle": "2024-06-23T04:14:31.622396Z",
          "shell.execute_reply.started": "2024-06-23T04:14:31.616947Z",
          "shell.execute_reply": "2024-06-23T04:14:31.621189Z"
        },
        "trusted": true,
        "id": "Bn73dJXSmEqL"
      },
      "execution_count": null,
      "outputs": []
    },
    {
      "cell_type": "markdown",
      "source": [
        "## **🔊Process03**  \n",
        "**┗ ML 활용 이탈률 예측**  \n",
        "---"
      ],
      "metadata": {
        "id": "d3qJOPQomEqL"
      }
    },
    {
      "cell_type": "markdown",
      "source": [
        "### · 모델링을 위한 데이터 준비\n",
        "---\n",
        "* 모델링을 수행하기 위해 Feature와 예측하고자하는 값인 Y로 데이터를 나눔\n",
        "* 학습과 예측을 위한 Train / Test set 분할"
      ],
      "metadata": {
        "id": "SnxXuAZ0mEqM"
      }
    },
    {
      "cell_type": "code",
      "source": [
        "df.head(5)"
      ],
      "metadata": {
        "execution": {
          "iopub.status.busy": "2024-06-23T04:14:31.624026Z",
          "iopub.execute_input": "2024-06-23T04:14:31.624829Z",
          "iopub.status.idle": "2024-06-23T04:14:31.662973Z",
          "shell.execute_reply.started": "2024-06-23T04:14:31.624789Z",
          "shell.execute_reply": "2024-06-23T04:14:31.661859Z"
        },
        "trusted": true,
        "id": "I06q5-pvmEqM"
      },
      "execution_count": null,
      "outputs": []
    },
    {
      "cell_type": "code",
      "source": [
        "# ▶ numeric, categorical value 나누기\n",
        "numeric_list=[]\n",
        "categorical_list=[]\n",
        "\n",
        "for i in df.columns :\n",
        "  if df[i].dtypes == 'O' :\n",
        "    categorical_list.append(i)\n",
        "  else :\n",
        "    numeric_list.append(i)\n",
        "\n",
        "print(\"categorical_list :\", categorical_list)\n",
        "print(\"numeric_list :\", numeric_list)"
      ],
      "metadata": {
        "execution": {
          "iopub.status.busy": "2024-06-23T04:14:31.66459Z",
          "iopub.execute_input": "2024-06-23T04:14:31.664957Z",
          "iopub.status.idle": "2024-06-23T04:14:31.676577Z",
          "shell.execute_reply.started": "2024-06-23T04:14:31.664927Z",
          "shell.execute_reply": "2024-06-23T04:14:31.675251Z"
        },
        "trusted": true,
        "id": "m_XituU6mEqM"
      },
      "execution_count": null,
      "outputs": []
    },
    {
      "cell_type": "code",
      "source": [
        "import pandas as pd\n",
        "from sklearn.model_selection import train_test_split\n",
        "from sklearn.tree import DecisionTreeClassifier\n",
        "from sklearn.metrics import accuracy_score, classification_report, confusion_matrix\n",
        "from sklearn.preprocessing import LabelEncoder\n",
        "\n",
        "# 데이터 로드\n",
        "df = pd.read_csv('/kaggle/input/zb-da5-competition/BankChurners_.csv')\n",
        "\n",
        "# 문자열 데이터를 숫자로 변환\n",
        "label_encoder = LabelEncoder()\n",
        "df['Attrition_Flag'] = label_encoder.fit_transform(df['Attrition_Flag'])\n",
        "df['Gender'] = label_encoder.fit_transform(df['Gender'])\n",
        "df['Education_Level'] = label_encoder.fit_transform(df['Education_Level'])\n",
        "df['Marital_Status'] = label_encoder.fit_transform(df['Marital_Status'])\n",
        "df['Income_Category'] = label_encoder.fit_transform(df['Income_Category'])\n",
        "df['Card_Category'] = label_encoder.fit_transform(df['Card_Category'])\n",
        "\n",
        "# 특징과 라벨 설정\n",
        "X = df.drop(['CLIENTNUM', 'Attrition_Flag'], axis=1)\n",
        "y = df['Attrition_Flag']\n",
        "\n",
        "# 학습용 데이터와 테스트 데이터로 분할\n",
        "X_train, X_test, y_train, y_test = train_test_split(X, y, test_size=0.3, random_state=42)\n",
        "\n",
        "# 결정 트리 모델 생성\n",
        "clf = DecisionTreeClassifier(random_state=42)\n",
        "\n",
        "# 모델 학습\n",
        "clf.fit(X_train, y_train)\n",
        "\n",
        "# 테스트 데이터로 예측 수행\n",
        "y_pred = clf.predict(X_test)\n",
        "\n",
        "# 정확도 평가\n",
        "accuracy = accuracy_score(y_test, y_pred)\n",
        "print(f'Accuracy: {accuracy:.2f}')\n",
        "\n",
        "# 정밀도, 재현율, F1 점수 등 세부 평가\n",
        "print('Classification Report:')\n",
        "print(classification_report(y_test, y_pred))\n",
        "\n",
        "# 혼동 행렬\n",
        "print('Confusion Matrix:')\n",
        "print(confusion_matrix(y_test, y_pred))"
      ],
      "metadata": {
        "execution": {
          "iopub.status.busy": "2024-06-23T04:14:31.677995Z",
          "iopub.execute_input": "2024-06-23T04:14:31.678338Z",
          "iopub.status.idle": "2024-06-23T04:14:32.320329Z",
          "shell.execute_reply.started": "2024-06-23T04:14:31.678307Z",
          "shell.execute_reply": "2024-06-23T04:14:32.318907Z"
        },
        "trusted": true,
        "id": "_zbxaQdXmEqM"
      },
      "execution_count": null,
      "outputs": []
    },
    {
      "cell_type": "code",
      "source": [
        "# 정확도(Accuracy): 전체 샘플 중 올바르게 예측된 샘플의 비율 = 0.93\n",
        "\n",
        "# 정밀도(Precision): 모델이 양성으로 예측한 샘플 중 실제로 양성인 샘플의 비율\n",
        "# 1) class 0 (이탈하지 않은 고객)= 0.79\n",
        "# 2) class 1 (이탈한 고객)= 0.96\n",
        "\n",
        "# 재현율(Recall): 실제 양성 샘플 중 모델이 올바르게 예측한 샘플의 비율\n",
        "# 1) class 0 (이탈하지 않은 고객)= 0.79\n",
        "# 2) class 1 (이탈한 고객)= 0.96\n",
        "\n",
        "# F1 스코어: 정밀도와 재현율의 조화평균\n",
        "# 1) class 0 (이탈하지 않은 고객)= 0.79\n",
        "# 2) class 1 (이탈한 고객)= 0.96\n",
        "\n",
        "# 혼동 행렬\n",
        "# 1) TN(True Negative): class 0을 정확히 예측한 샘플 = 391\n",
        "# 2) FP(False Positive): class 0을 class 1로 잘못 예측한 샘플 = 105\n",
        "# 3) FN(False Negative): class 1을 class 0으로 잘못 예측한 샘플 = 104\n",
        "# 4) TP(True Negative): class 1을 정확히 예측한 샘플 = 2439\n",
        "\n",
        "# 결론\n",
        "# class 1의 정밀도와 재현율이 높기 때문에, 이탈 고객을 잘 예측하고 있음\n",
        "# class 0의 정밀도와 재현율이 상대적으로 낮기 때문에, 하이퍼 파라미터 튜닝으로 개선시켜보고자 함"
      ],
      "metadata": {
        "execution": {
          "iopub.status.busy": "2024-06-23T04:14:32.321969Z",
          "iopub.execute_input": "2024-06-23T04:14:32.322329Z",
          "iopub.status.idle": "2024-06-23T04:14:32.328744Z",
          "shell.execute_reply.started": "2024-06-23T04:14:32.322296Z",
          "shell.execute_reply": "2024-06-23T04:14:32.327221Z"
        },
        "trusted": true,
        "id": "lxSsO95fmEqN"
      },
      "execution_count": null,
      "outputs": []
    },
    {
      "cell_type": "code",
      "source": [
        "# 결정 트리 모델 하이퍼 파라미터 튜닝 진행\n",
        "# 1) 그리드 서치 이용\n",
        "\n",
        "import pandas as pd\n",
        "from sklearn.model_selection import train_test_split, GridSearchCV\n",
        "from sklearn.tree import DecisionTreeClassifier\n",
        "from sklearn.metrics import accuracy_score, classification_report, confusion_matrix\n",
        "from sklearn.preprocessing import LabelEncoder\n",
        "\n",
        "# 하이퍼파라미터 그리드 설정\n",
        "param_grid = {\n",
        "    'max_depth': [None, 10, 20, 30, 40, 50],\n",
        "    'min_samples_split': [2, 10, 20, 30],\n",
        "    'min_samples_leaf': [1, 5, 10, 20],\n",
        "    'criterion': ['gini', 'entropy']\n",
        "}\n",
        "\n",
        "# 결정 트리 모델 생성\n",
        "clf = DecisionTreeClassifier(random_state=42)\n",
        "\n",
        "# GridSearchCV를 사용하여 최적의 하이퍼파라미터 찾기\n",
        "grid_search = GridSearchCV(estimator=clf, param_grid=param_grid, cv=5, scoring='f1_macro')\n",
        "grid_search.fit(X_train, y_train)\n",
        "\n",
        "# 최적의 하이퍼파라미터 출력\n",
        "print(f'Best Hyperparameters: {grid_search.best_params_}')\n",
        "\n",
        "# 최적의 모델로 테스트 데이터 예측\n",
        "best_clf = grid_search.best_estimator_\n",
        "y_pred = best_clf.predict(X_test)\n",
        "\n",
        "# 정확도 평가\n",
        "accuracy = accuracy_score(y_test, y_pred)\n",
        "print(f'Accuracy: {accuracy:.2f}')\n",
        "\n",
        "# 정밀도, 재현율, F1 점수 등 세부 평가\n",
        "print('Classification Report:')\n",
        "print(classification_report(y_test, y_pred))\n",
        "\n",
        "# 혼동 행렬\n",
        "print('Confusion Matrix:')\n",
        "print(confusion_matrix(y_test, y_pred))"
      ],
      "metadata": {
        "execution": {
          "iopub.status.busy": "2024-06-23T04:14:32.330084Z",
          "iopub.execute_input": "2024-06-23T04:14:32.330437Z",
          "iopub.status.idle": "2024-06-23T04:15:26.831186Z",
          "shell.execute_reply.started": "2024-06-23T04:14:32.330407Z",
          "shell.execute_reply": "2024-06-23T04:15:26.830018Z"
        },
        "trusted": true,
        "id": "cJDXxgu2mEqN"
      },
      "execution_count": null,
      "outputs": []
    },
    {
      "cell_type": "code",
      "source": [
        "# 정확도(Accuracy): 전체 샘플 중 올바르게 예측된 샘플의 비율 = 0.93\n",
        "\n",
        "# 정밀도(Precision): 모델이 양성으로 예측한 샘플 중 실제로 양성인 샘플의 비율\n",
        "# 1) class 0 (이탈하지 않은 고객)= 0.79\n",
        "# 2) class 1 (이탈한 고객)= 0.96\n",
        "\n",
        "# 재현율(Recall): 실제 양성 샘플 중 모델이 올바르게 예측한 샘플의 비율\n",
        "# 1) class 0 (이탈하지 않은 고객)= 0.78\n",
        "# 2) class 1 (이탈한 고객)= 0.96\n",
        "\n",
        "# F1 스코어: 정밀도와 재현율의 조화평균\n",
        "# 1) class 0 (이탈하지 않은 고객)= 0.79\n",
        "# 2) class 1 (이탈한 고객)= 0.96\n",
        "\n",
        "# 혼동 행렬\n",
        "# 1) TN(True Negative): class 0을 정확히 예측한 샘플 = 388\n",
        "# 2) FP(False Positive): class 0을 class 1로 잘못 예측한 샘플 = 108\n",
        "# 3) FN(False Negative): class 1을 class 0으로 잘못 예측한 샘플 = 101\n",
        "# 4) TP(True Negative): class 1을 정확히 예측한 샘플 = 2442\n",
        "\n",
        "# 결론\n",
        "# 그리드 서치를 이용한 하이퍼 파라미터 튜닝을 적용하였으나, 유의미한 개선 정도를 보기는 어려웠음"
      ],
      "metadata": {
        "execution": {
          "iopub.status.busy": "2024-06-23T04:15:26.832932Z",
          "iopub.execute_input": "2024-06-23T04:15:26.833394Z",
          "iopub.status.idle": "2024-06-23T04:15:26.840548Z",
          "shell.execute_reply.started": "2024-06-23T04:15:26.833353Z",
          "shell.execute_reply": "2024-06-23T04:15:26.839183Z"
        },
        "trusted": true,
        "id": "84pcrLXvmEqN"
      },
      "execution_count": null,
      "outputs": []
    },
    {
      "cell_type": "code",
      "source": [
        "# 2) 데이터 불균형 문제를 해결하기 위한 오버샘플링 진행\n",
        "# 소수 클래스(이탈 고객)의 데이터를 늘림\n",
        "\n",
        "from imblearn.over_sampling import SMOTE\n",
        "from sklearn.model_selection import train_test_split\n",
        "from sklearn.tree import DecisionTreeClassifier\n",
        "from sklearn.metrics import accuracy_score, classification_report, confusion_matrix\n",
        "from sklearn.preprocessing import LabelEncoder\n",
        "import pandas as pd\n",
        "\n",
        "# 데이터 로드 및 전처리\n",
        "df = pd.read_csv('/kaggle/input/zb-da5-competition/BankChurners_.csv')\n",
        "\n",
        "# 문자열 데이터를 숫자로 변환 (Label Encoding)\n",
        "label_encoder = LabelEncoder()\n",
        "df['Attrition_Flag'] = label_encoder.fit_transform(df['Attrition_Flag'])\n",
        "df['Gender'] = label_encoder.fit_transform(df['Gender'])\n",
        "df['Education_Level'] = label_encoder.fit_transform(df['Education_Level'])\n",
        "df['Marital_Status'] = label_encoder.fit_transform(df['Marital_Status'])\n",
        "df['Income_Category'] = label_encoder.fit_transform(df['Income_Category'])\n",
        "df['Card_Category'] = label_encoder.fit_transform(df['Card_Category'])\n",
        "\n",
        "X = df.drop(['CLIENTNUM', 'Attrition_Flag'], axis=1)\n",
        "y = df['Attrition_Flag']\n",
        "\n",
        "# 학습용 데이터와 테스트 데이터로 분할\n",
        "X_train, X_test, y_train, y_test = train_test_split(X, y, test_size=0.3, random_state=42)\n",
        "\n",
        "# SMOTE를 사용한 오버샘플링\n",
        "smote = SMOTE(random_state=42)\n",
        "X_resampled, y_resampled = smote.fit_resample(X_train, y_train)\n",
        "\n",
        "# 결정 트리 모델 생성 및 학습\n",
        "clf = DecisionTreeClassifier(random_state=42)\n",
        "clf.fit(X_resampled, y_resampled)\n",
        "\n",
        "# 테스트 데이터로 예측 수행\n",
        "y_pred = clf.predict(X_test)\n",
        "\n",
        "# 정확도 평가\n",
        "accuracy = accuracy_score(y_test, y_pred)\n",
        "print(f'Accuracy: {accuracy:.2f}')\n",
        "\n",
        "# 정밀도, 재현율, F1 점수 등 세부 평가\n",
        "print('Classification Report:')\n",
        "print(classification_report(y_test, y_pred))\n",
        "\n",
        "# 혼동 행렬\n",
        "print('Confusion Matrix:')\n",
        "print(confusion_matrix(y_test, y_pred))"
      ],
      "metadata": {
        "execution": {
          "iopub.status.busy": "2024-06-23T04:15:26.842159Z",
          "iopub.execute_input": "2024-06-23T04:15:26.843021Z",
          "iopub.status.idle": "2024-06-23T04:15:27.436021Z",
          "shell.execute_reply.started": "2024-06-23T04:15:26.84298Z",
          "shell.execute_reply": "2024-06-23T04:15:27.434847Z"
        },
        "trusted": true,
        "id": "8f4GoJSqmEqN"
      },
      "execution_count": null,
      "outputs": []
    },
    {
      "cell_type": "code",
      "source": [
        "# 정확도(Accuracy): 전체 샘플 중 올바르게 예측된 샘플의 비율 = 0.92\n",
        "\n",
        "# 정밀도(Precision): 모델이 양성으로 예측한 샘플 중 실제로 양성인 샘플의 비율\n",
        "# 1) class 0 (이탈하지 않은 고객)= 0.73\n",
        "# 2) class 1 (이탈한 고객)= 0.96\n",
        "\n",
        "# 재현율(Recall): 실제 양성 샘플 중 모델이 올바르게 예측한 샘플의 비율\n",
        "# 1) class 0 (이탈하지 않은 고객)= 0.79\n",
        "# 2) class 1 (이탈한 고객)= 0.94\n",
        "\n",
        "# F1 스코어: 정밀도와 재현율의 조화평균\n",
        "# 1) class 0 (이탈하지 않은 고객)= 0.76\n",
        "# 2) class 1 (이탈한 고객)= 0.95\n",
        "\n",
        "# 혼동 행렬\n",
        "# 1) TN(True Negative): class 0을 정확히 예측한 샘플 = 393\n",
        "# 2) FP(False Positive): class 0을 class 1로 잘못 예측한 샘플 = 103\n",
        "# 3) FN(False Negative): class 1을 class 0으로 잘못 예측한 샘플 = 147\n",
        "# 4) TP(True Negative): class 1을 정확히 예측한 샘플 = 2396\n",
        "\n",
        "# 결론\n",
        "# 정확도와 class 0, class 1의 F1 스코어가 모두 하락하여, 모델의 성능이 개선되었다고 보기 어려움"
      ],
      "metadata": {
        "execution": {
          "iopub.status.busy": "2024-06-23T04:15:27.437787Z",
          "iopub.execute_input": "2024-06-23T04:15:27.43818Z",
          "iopub.status.idle": "2024-06-23T04:15:27.444922Z",
          "shell.execute_reply.started": "2024-06-23T04:15:27.438139Z",
          "shell.execute_reply": "2024-06-23T04:15:27.443089Z"
        },
        "trusted": true,
        "id": "esq9U5h0mEqN"
      },
      "execution_count": null,
      "outputs": []
    },
    {
      "cell_type": "code",
      "source": [
        "# 3) 데이터 불균형 문제를 해결하기 위한 언더샘플링 진행\n",
        "# 다수 클래스(잔존 고객)의 데이터를 줄임\n",
        "\n",
        "from imblearn.under_sampling import RandomUnderSampler\n",
        "\n",
        "# RandomUnderSampler를 사용한 언더샘플링\n",
        "rus = RandomUnderSampler(random_state=42)\n",
        "X_resampled, y_resampled = rus.fit_resample(X_train, y_train)\n",
        "\n",
        "# 결정 트리 모델 생성 및 학습\n",
        "clf = DecisionTreeClassifier(random_state=42)\n",
        "clf.fit(X_resampled, y_resampled)\n",
        "\n",
        "# 테스트 데이터로 예측 수행\n",
        "y_pred = clf.predict(X_test)\n",
        "\n",
        "# 정확도 평가\n",
        "accuracy = accuracy_score(y_test, y_pred)\n",
        "print(f'Accuracy: {accuracy:.2f}')\n",
        "\n",
        "# 정밀도, 재현율, F1 점수 등 세부 평가\n",
        "print('Classification Report:')\n",
        "print(classification_report(y_test, y_pred))\n",
        "\n",
        "# 혼동 행렬\n",
        "print('Confusion Matrix:')\n",
        "print(confusion_matrix(y_test, y_pred))"
      ],
      "metadata": {
        "execution": {
          "iopub.status.busy": "2024-06-23T04:15:27.446751Z",
          "iopub.execute_input": "2024-06-23T04:15:27.447129Z",
          "iopub.status.idle": "2024-06-23T04:15:27.513147Z",
          "shell.execute_reply.started": "2024-06-23T04:15:27.447097Z",
          "shell.execute_reply": "2024-06-23T04:15:27.511999Z"
        },
        "trusted": true,
        "id": "seVNB36umEqO"
      },
      "execution_count": null,
      "outputs": []
    },
    {
      "cell_type": "code",
      "source": [
        "# 정확도(Accuracy): 전체 샘플 중 올바르게 예측된 샘플의 비율 = 0.89\n",
        "\n",
        "# 정밀도(Precision): 모델이 양성으로 예측한 샘플 중 실제로 양성인 샘플의 비율\n",
        "# 1) class 0 (이탈하지 않은 고객)= 0.62\n",
        "# 2) class 1 (이탈한 고객)= 0.98\n",
        "\n",
        "# 재현율(Recall): 실제 양성 샘플 중 모델이 올바르게 예측한 샘플의 비율\n",
        "# 1) class 0 (이탈하지 않은 고객)= 0.89\n",
        "# 2) class 1 (이탈한 고객)= 0.89\n",
        "\n",
        "# F1 스코어: 정밀도와 재현율의 조화평균\n",
        "# 1) class 0 (이탈하지 않은 고객)= 0.73\n",
        "# 2) class 1 (이탈한 고객)= 0.93\n",
        "\n",
        "# 혼동 행렬\n",
        "# 1) TN(True Negative): class 0을 정확히 예측한 샘플 = 440\n",
        "# 2) FP(False Positive): class 0을 class 1로 잘못 예측한 샘플 = 56\n",
        "# 3) FN(False Negative): class 1을 class 0으로 잘못 예측한 샘플 = 272\n",
        "# 4) TP(True Negative): class 1을 정확히 예측한 샘플 = 2271\n",
        "\n",
        "# 결론\n",
        "# 정확도, class 0과 class 1의 F1 스코어가 오버샘플링에 비해 모두 더 큰 폭으로 하락하여, 모델의 성능이 개선되었다고 할 수 없음"
      ],
      "metadata": {
        "execution": {
          "iopub.status.busy": "2024-06-23T04:15:27.514793Z",
          "iopub.execute_input": "2024-06-23T04:15:27.515241Z",
          "iopub.status.idle": "2024-06-23T04:15:27.522069Z",
          "shell.execute_reply.started": "2024-06-23T04:15:27.515199Z",
          "shell.execute_reply": "2024-06-23T04:15:27.520711Z"
        },
        "trusted": true,
        "id": "Y9Jh35_omEqO"
      },
      "execution_count": null,
      "outputs": []
    },
    {
      "cell_type": "code",
      "source": [
        "# 4) 데이터 불균형 문제를 해결하기 위한 클래스 가중치 조정\n",
        "# class_weight 파라미터를 사용하여 가중치 부여\n",
        "\n",
        "# 결정 트리 모델 생성 (클래스 가중치 부여)\n",
        "clf = DecisionTreeClassifier(class_weight='balanced', random_state=42)\n",
        "clf.fit(X_train, y_train)\n",
        "\n",
        "# 테스트 데이터로 예측 수행\n",
        "y_pred = clf.predict(X_test)\n",
        "\n",
        "# 정확도 평가\n",
        "accuracy = accuracy_score(y_test, y_pred)\n",
        "print(f'Accuracy: {accuracy:.2f}')\n",
        "\n",
        "# 정밀도, 재현율, F1 점수 등 세부 평가\n",
        "print('Classification Report:')\n",
        "print(classification_report(y_test, y_pred))\n",
        "\n",
        "# 혼동 행렬\n",
        "print('Confusion Matrix:')\n",
        "print(confusion_matrix(y_test, y_pred))"
      ],
      "metadata": {
        "execution": {
          "iopub.status.busy": "2024-06-23T04:15:27.523556Z",
          "iopub.execute_input": "2024-06-23T04:15:27.523982Z",
          "iopub.status.idle": "2024-06-23T04:15:27.636526Z",
          "shell.execute_reply.started": "2024-06-23T04:15:27.523943Z",
          "shell.execute_reply": "2024-06-23T04:15:27.635453Z"
        },
        "trusted": true,
        "id": "Pt2gDl6amEqO"
      },
      "execution_count": null,
      "outputs": []
    },
    {
      "cell_type": "code",
      "source": [
        "# 정확도(Accuracy): 전체 샘플 중 올바르게 예측된 샘플의 비율 = 0.92\n",
        "\n",
        "# 정밀도(Precision): 모델이 양성으로 예측한 샘플 중 실제로 양성인 샘플의 비율\n",
        "# 1) class 0 (이탈하지 않은 고객)= 0.76\n",
        "# 2) class 1 (이탈한 고객)= 0.95\n",
        "\n",
        "# 재현율(Recall): 실제 양성 샘플 중 모델이 올바르게 예측한 샘플의 비율\n",
        "# 1) class 0 (이탈하지 않은 고객)= 0.75\n",
        "# 2) class 1 (이탈한 고객)= 0.95\n",
        "\n",
        "# F1 스코어: 정밀도와 재현율의 조화평균\n",
        "# 1) class 0 (이탈하지 않은 고객)= 0.76\n",
        "# 2) class 1 (이탈한 고객)= 0.95\n",
        "\n",
        "# 혼동 행렬\n",
        "# 1) TN(True Negative): class 0을 정확히 예측한 샘플 = 372\n",
        "# 2) FP(False Positive): class 0을 class 1로 잘못 예측한 샘플 = 124\n",
        "# 3) FN(False Negative): class 1을 class 0으로 잘못 예측한 샘플 = 115\n",
        "# 4) TP(True Negative): class 1을 정확히 예측한 샘플 = 2428\n",
        "\n",
        "# 결론\n",
        "# 여전히 class 0의 정밀도와 재현율은 개선되지 않았음"
      ],
      "metadata": {
        "execution": {
          "iopub.status.busy": "2024-06-23T04:15:27.638006Z",
          "iopub.execute_input": "2024-06-23T04:15:27.638451Z",
          "iopub.status.idle": "2024-06-23T04:15:27.644363Z",
          "shell.execute_reply.started": "2024-06-23T04:15:27.63841Z",
          "shell.execute_reply": "2024-06-23T04:15:27.643032Z"
        },
        "trusted": true,
        "id": "rTbnmLM_mEqO"
      },
      "execution_count": null,
      "outputs": []
    },
    {
      "cell_type": "code",
      "source": [
        "# 5) 데이터 불균형 문제를 해결하기 위한 앙상블 기법 사용(모델 결합)\n",
        "# Random Forest 사용\n",
        "\n",
        "from sklearn.ensemble import RandomForestClassifier\n",
        "\n",
        "# 랜덤 포레스트 모델 생성 및 학습\n",
        "clf = RandomForestClassifier(class_weight='balanced', random_state=42)\n",
        "clf.fit(X_train, y_train)\n",
        "\n",
        "# 테스트 데이터로 예측 수행\n",
        "y_pred = clf.predict(X_test)\n",
        "\n",
        "# 정확도 평가\n",
        "accuracy = accuracy_score(y_test, y_pred)\n",
        "print(f'Accuracy: {accuracy:.2f}')\n",
        "\n",
        "# 정밀도, 재현율, F1 점수 등 세부 평가\n",
        "print('Classification Report:')\n",
        "print(classification_report(y_test, y_pred))\n",
        "\n",
        "# 혼동 행렬\n",
        "print('Confusion Matrix:')\n",
        "print(confusion_matrix(y_test, y_pred))"
      ],
      "metadata": {
        "execution": {
          "iopub.status.busy": "2024-06-23T04:15:27.646059Z",
          "iopub.execute_input": "2024-06-23T04:15:27.647016Z",
          "iopub.status.idle": "2024-06-23T04:15:29.141887Z",
          "shell.execute_reply.started": "2024-06-23T04:15:27.646982Z",
          "shell.execute_reply": "2024-06-23T04:15:29.140368Z"
        },
        "trusted": true,
        "id": "kBGOB01emEqO"
      },
      "execution_count": null,
      "outputs": []
    },
    {
      "cell_type": "code",
      "source": [
        "# 정확도(Accuracy): 전체 샘플 중 올바르게 예측된 샘플의 비율 = 0.95\n",
        "\n",
        "# 정밀도(Precision): 모델이 양성으로 예측한 샘플 중 실제로 양성인 샘플의 비율\n",
        "# 1) class 0 (이탈하지 않은 고객)= 0.92\n",
        "# 2) class 1 (이탈한 고객)= 0.96\n",
        "\n",
        "# 재현율(Recall): 실제 양성 샘플 중 모델이 올바르게 예측한 샘플의 비율\n",
        "# 1) class 0 (이탈하지 않은 고객)= 0.78\n",
        "# 2) class 1 (이탈한 고객)= 0.99\n",
        "\n",
        "# F1 스코어: 정밀도와 재현율의 조화평균\n",
        "# 1) class 0 (이탈하지 않은 고객)= 0.84\n",
        "# 2) class 1 (이탈한 고객)= 0.97\n",
        "\n",
        "# 혼동 행렬\n",
        "# 1) TN(True Negative): class 0을 정확히 예측한 샘플 = 385\n",
        "# 2) FP(False Positive): class 0을 class 1로 잘못 예측한 샘플 = 111\n",
        "# 3) FN(False Negative): class 1을 class 0으로 잘못 예측한 샘플 = 33\n",
        "# 4) TP(True Negative): class 1을 정확히 예측한 샘플 = 2510\n",
        "\n",
        "# 결론\n",
        "# 정확도 및 class 0의 정밀도, F1 스코어가 개선됨 -> 모델 성능을 가장 많이 개선시킨 튜닝 방법!"
      ],
      "metadata": {
        "execution": {
          "iopub.status.busy": "2024-06-23T04:15:29.14386Z",
          "iopub.execute_input": "2024-06-23T04:15:29.144225Z",
          "iopub.status.idle": "2024-06-23T04:15:29.150683Z",
          "shell.execute_reply.started": "2024-06-23T04:15:29.144193Z",
          "shell.execute_reply": "2024-06-23T04:15:29.149339Z"
        },
        "trusted": true,
        "id": "gcPwNKzOmEqO"
      },
      "execution_count": null,
      "outputs": []
    },
    {
      "cell_type": "code",
      "source": [
        "import matplotlib.pyplot as plt\n",
        "import seaborn as sns\n",
        "%matplotlib inline\n",
        "plt.style.use(['dark_background'])\n",
        "\n",
        "# 변수 중요도 추출\n",
        "importances = clf.feature_importances_\n",
        "\n",
        "# 변수 중요도를 데이터프레임으로 변환\n",
        "feature_importances = pd.DataFrame({'Feature': X.columns, 'Importance': importances})\n",
        "\n",
        "# 중요도 순으로 정렬\n",
        "feature_importances = feature_importances.sort_values(by='Importance', ascending=False)\n",
        "\n",
        "# 변수 중요도 시각화\n",
        "plt.figure(figsize=(10, 8))\n",
        "sns.barplot(x='Importance', y='Feature', data=feature_importances)\n",
        "plt.title('Feature Importances')\n",
        "plt.xlabel('Importance')\n",
        "plt.ylabel('Feature')\n",
        "plt.show()\n"
      ],
      "metadata": {
        "execution": {
          "iopub.status.busy": "2024-06-23T04:15:29.15275Z",
          "iopub.execute_input": "2024-06-23T04:15:29.15319Z",
          "iopub.status.idle": "2024-06-23T04:15:29.597009Z",
          "shell.execute_reply.started": "2024-06-23T04:15:29.153147Z",
          "shell.execute_reply": "2024-06-23T04:15:29.595753Z"
        },
        "trusted": true,
        "id": "rxL4GT-PmEqP"
      },
      "execution_count": null,
      "outputs": []
    },
    {
      "cell_type": "markdown",
      "source": [
        "> 중요 변수 상위 6개\n",
        "1. Total_Trans_Ct(총 거래 횟수)\n",
        "2. Total_Trans_Amt(총 거래 금액)\n",
        "3. Total_Ct_Chng_Q4_Q1(1분기 대비 4분기 총 거래횟수 변동비율)\n",
        "4. Total_Revolving_Bal(결제 기한이 지났음에도 남아있는 채무의 총액)\n",
        "5. Avg_Utilization_Ratio(신용 한도 대비 사용한 한도의 비율)\n",
        "6. Total_Amt_Chng_Q4_Q1(1분기 대비 4분기 총 금액 변동비율)"
      ],
      "metadata": {
        "id": "inVa8godmEqP"
      }
    },
    {
      "cell_type": "code",
      "source": [
        "import pandas as pd\n",
        "import matplotlib.pyplot as plt\n",
        "import seaborn as sns\n",
        "\n",
        "# 중요 변수 추출\n",
        "top_features = feature_importances.head(6)['Feature']\n",
        "\n",
        "# 중요 변수를 이용한 추가 분석\n",
        "for feature in top_features:\n",
        "    plt.figure(figsize=(10, 6))\n",
        "    sns.boxplot(x='Attrition_Flag', y=feature, data=df)\n",
        "    plt.title(f'{feature} vs Attrition Flag')\n",
        "    plt.show()"
      ],
      "metadata": {
        "execution": {
          "iopub.status.busy": "2024-06-23T04:15:29.599016Z",
          "iopub.execute_input": "2024-06-23T04:15:29.599404Z",
          "iopub.status.idle": "2024-06-23T04:15:31.066918Z",
          "shell.execute_reply.started": "2024-06-23T04:15:29.59937Z",
          "shell.execute_reply": "2024-06-23T04:15:31.064895Z"
        },
        "trusted": true,
        "id": "_fLBk0ewmEqP"
      },
      "execution_count": null,
      "outputs": []
    },
    {
      "cell_type": "code",
      "source": [
        "# 해석\n",
        "\n",
        "# 1. Total_Trans_Ct (총 거래 횟수)\n",
        "\n",
        "# 이탈 고객(Attrition_Flag = 1)의 총 거래 횟수는 잔존 고객(Attrition_Flag = 0)보다 더 높은 경향을 보임 -> 중앙값이 명확히 더 높고, 범위도 더 넓음\n",
        "# 거래 횟수가 많을수록 고객이 이탈할 가능성이 높음\n",
        "\n",
        "\n",
        "# 2. Total_Trans_Amt (총 거래 금액)\n",
        "\n",
        "# 이탈 고객의 총 거래 금액이 잔존 고객보다 높음 -> 중앙값과 상자 내 범위가 모두 이탈 고객 쪽이 높음\n",
        "# 거래 금액이 많은 고객이 이탈할 가능성이 더 높음\n",
        "\n",
        "\n",
        "# 3. Total_Ct_Chng_Q4_Q1 (1분기 대비 4분기 총 거래 횟수 변동비율)\n",
        "\n",
        "# 이탈 고객의 1분기 대비 4분기 총 거래 횟수 변동비율이 잔존 고객보다 높음 -> 중앙값이 더 높고, 데이터 분포가 더 넓음\n",
        "# 거래 횟수의 변동이 큰 고객일수록 이탈 가능성이 높음\n",
        "\n",
        "\n",
        "# 4. Total_Revolving_Bal (총 회전 잔고)\n",
        "\n",
        "# 이탈 고객의 총 회전 잔고가 잔존 고객보다 높음 -> 중앙값이 더 높고, 전체적으로 더 높은 값을 가짐\n",
        "# 회전 잔고가 많은 고객일수록 이탈 가능성이 높음\n",
        "\n",
        "\n",
        "# 5. Avg_Utilization_Ratio (신용 한도 대비 사용한 한도 비율)\n",
        "\n",
        "# 이탈 고객의 신용 한도 대비 사용 비율이 잔존 고객보다 높음 -> 중앙값이 더 높고, 분포도 더 넓음\n",
        "# 신용 한도 대비 사용 비율이 높은 고객일수록 이탈 가능성이 높음\n",
        "\n",
        "\n",
        "# 6. Total_Amt_Chng_Q4_Q1 (1분기 대비 4분기 총 금액 변동비율)\n",
        "\n",
        "# 이탈 고객의 1분기 대비 4분기 총 금액 변동비율이 잔존 고객보다 높음 -> 중앙값이 더 높고, 분포도 더 넓음\n",
        "# 거래 금액의 변동이 큰 고객일수록 이탈 가능성이 높음"
      ],
      "metadata": {
        "id": "Bk3hbVPAmEqP"
      },
      "execution_count": null,
      "outputs": []
    },
    {
      "cell_type": "code",
      "source": [
        "# 종합 결론\n",
        "\n",
        "# 거래 횟수, 거래 금액, 변동 비율, 회전 잔고, 이용 비율 등 금융 활동이 활발한 고객들일 수록 이탈할 가능성이 높음\n",
        "\n",
        "# 이탈을 막기 위해 특별 혜택을 제공하는 등의 맞춤형 전략을 세울 수 있을 것 같다!"
      ],
      "metadata": {
        "id": "76I4CYJFmEqP"
      },
      "execution_count": null,
      "outputs": []
    },
    {
      "cell_type": "markdown",
      "source": [
        "> **고객 이탈을 방지하기 위한 A/B 테스트 가설 세우기**\n",
        "\n",
        "**1. 거래 횟수가 많은 / 거래 금액이 높은 고객에게 추가 보상을 제공한다면, 고객 이탈률이 감소할 것이다.**\n",
        "* A그룹: 기존 혜택만 제공\n",
        "* B그룹: 추가 보상(캐시백, 포인트 등) 제공\n",
        "\n",
        "**2. 회전 잔고가 높은 고객에게 특별 혜택을 제공한다면, 고객 이탈률이 감소할 것이다.**\n",
        "* A그룹: 기존 금융 혜택 유지\n",
        "* B그룹: 특별 금융 혜택 제공\n",
        "\n",
        "**3. 신용 한도 대비 사용 비율이 높은 고객에게 한도 증액을 제안하면, 고객 이탈률이 감소할 것이다.**\n",
        "* A그룹: 기존 한도 유지\n",
        "* B그룹: 한도 증액 제안\n",
        "\n",
        "**4.1분기 대비 4분기 거래 변동성이 큰 고객에게 맞춤형 혜택을 제공하면, 고객 이탈률이 감소할 것이다.**\n",
        "* A그룹: 기존 혜택 유지\n",
        "* B그룹: 맞춤형 혜택 제공"
      ],
      "metadata": {
        "id": "Qe3AWVyTmEqP"
      }
    }
  ]
}